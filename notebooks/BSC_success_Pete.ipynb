{
 "cells": [
  {
   "cell_type": "code",
   "execution_count": 14,
   "id": "ca86322f-ec6b-45d6-b8b7-770a1f36e210",
   "metadata": {},
   "outputs": [],
   "source": [
    "import pandas as pd\n",
    "import matplotlib.pyplot as plt\n",
    "import seaborn"
   ]
  },
  {
   "cell_type": "code",
   "execution_count": 5,
   "id": "5103438f-85dd-47f5-8a64-e72aadf457ce",
   "metadata": {},
   "outputs": [
    {
     "name": "stderr",
     "output_type": "stream",
     "text": [
      "C:\\Users\\pvanzand\\Anaconda3\\lib\\site-packages\\IPython\\core\\interactiveshell.py:3165: DtypeWarning: Columns (18,20,21,23,24,26,27,29,31,33) have mixed types.Specify dtype option on import or set low_memory=False.\n",
      "  has_raised = await self.run_ast_nodes(code_ast.body, cell_name,\n"
     ]
    }
   ],
   "source": [
    "df = pd.read_csv('project_data/courses_no_ids/anonymized_bsc_data.csv')"
   ]
  },
  {
   "cell_type": "code",
   "execution_count": 6,
   "id": "743ed542-4066-4cae-8596-70344dcef8c9",
   "metadata": {},
   "outputs": [
    {
     "data": {
      "text/html": [
       "<div>\n",
       "<style scoped>\n",
       "    .dataframe tbody tr th:only-of-type {\n",
       "        vertical-align: middle;\n",
       "    }\n",
       "\n",
       "    .dataframe tbody tr th {\n",
       "        vertical-align: top;\n",
       "    }\n",
       "\n",
       "    .dataframe thead th {\n",
       "        text-align: right;\n",
       "    }\n",
       "</style>\n",
       "<table border=\"1\" class=\"dataframe\">\n",
       "  <thead>\n",
       "    <tr style=\"text-align: right;\">\n",
       "      <th></th>\n",
       "      <th>Sttr Term</th>\n",
       "      <th>course_#</th>\n",
       "      <th>course_title</th>\n",
       "      <th>Sttr Student Load</th>\n",
       "      <th>Sttr Stu Credits</th>\n",
       "      <th>Sttr Attempted Cred</th>\n",
       "      <th>Sttr Stu Final Grades</th>\n",
       "      <th>Sttr Cmpl Cred</th>\n",
       "      <th>Sttr Term Gpa</th>\n",
       "      <th>faculty</th>\n",
       "      <th>...</th>\n",
       "      <th>FA5 Enr</th>\n",
       "      <th>FA5 Class</th>\n",
       "      <th>FA5 Major</th>\n",
       "      <th>FA6 Enr</th>\n",
       "      <th>FA6 Class</th>\n",
       "      <th>FA6 Major</th>\n",
       "      <th>Graduated</th>\n",
       "      <th>Grad Term</th>\n",
       "      <th>Grad Year</th>\n",
       "      <th>Grad Major</th>\n",
       "    </tr>\n",
       "  </thead>\n",
       "  <tbody>\n",
       "    <tr>\n",
       "      <th>0</th>\n",
       "      <td>15/SP</td>\n",
       "      <td>DA 101 A</td>\n",
       "      <td>Basic Ballet</td>\n",
       "      <td>F</td>\n",
       "      <td>0.5</td>\n",
       "      <td>3.0</td>\n",
       "      <td>W</td>\n",
       "      <td>3.0</td>\n",
       "      <td>3.667</td>\n",
       "      <td>Melissa Turnage</td>\n",
       "      <td>...</td>\n",
       "      <td>NaN</td>\n",
       "      <td>NaN</td>\n",
       "      <td>NaN</td>\n",
       "      <td>NaN</td>\n",
       "      <td>NaN</td>\n",
       "      <td>NaN</td>\n",
       "      <td>Y</td>\n",
       "      <td>18/SP</td>\n",
       "      <td>1718.0</td>\n",
       "      <td>Psychology</td>\n",
       "    </tr>\n",
       "    <tr>\n",
       "      <th>1</th>\n",
       "      <td>15/SP</td>\n",
       "      <td>HI 155 A-ES</td>\n",
       "      <td>Reforming America</td>\n",
       "      <td>F</td>\n",
       "      <td>1.0</td>\n",
       "      <td>NaN</td>\n",
       "      <td>A-</td>\n",
       "      <td>3.0</td>\n",
       "      <td>3.667</td>\n",
       "      <td>Victoria Ott</td>\n",
       "      <td>...</td>\n",
       "      <td>NaN</td>\n",
       "      <td>NaN</td>\n",
       "      <td>NaN</td>\n",
       "      <td>NaN</td>\n",
       "      <td>NaN</td>\n",
       "      <td>NaN</td>\n",
       "      <td>Y</td>\n",
       "      <td>18/SP</td>\n",
       "      <td>1718.0</td>\n",
       "      <td>Psychology</td>\n",
       "    </tr>\n",
       "    <tr>\n",
       "      <th>2</th>\n",
       "      <td>15/SP</td>\n",
       "      <td>PL 200 A-CI</td>\n",
       "      <td>Ethical Choice</td>\n",
       "      <td>F</td>\n",
       "      <td>1.0</td>\n",
       "      <td>NaN</td>\n",
       "      <td>B+</td>\n",
       "      <td>3.0</td>\n",
       "      <td>3.667</td>\n",
       "      <td>William Myers</td>\n",
       "      <td>...</td>\n",
       "      <td>NaN</td>\n",
       "      <td>NaN</td>\n",
       "      <td>NaN</td>\n",
       "      <td>NaN</td>\n",
       "      <td>NaN</td>\n",
       "      <td>NaN</td>\n",
       "      <td>Y</td>\n",
       "      <td>18/SP</td>\n",
       "      <td>1718.0</td>\n",
       "      <td>Psychology</td>\n",
       "    </tr>\n",
       "    <tr>\n",
       "      <th>3</th>\n",
       "      <td>15/SP</td>\n",
       "      <td>IDS 200 A-CI</td>\n",
       "      <td>Intro to Human Rights (GP)</td>\n",
       "      <td>F</td>\n",
       "      <td>1.0</td>\n",
       "      <td>NaN</td>\n",
       "      <td>A</td>\n",
       "      <td>3.0</td>\n",
       "      <td>3.667</td>\n",
       "      <td>Sandra Sprayberry</td>\n",
       "      <td>...</td>\n",
       "      <td>NaN</td>\n",
       "      <td>NaN</td>\n",
       "      <td>NaN</td>\n",
       "      <td>NaN</td>\n",
       "      <td>NaN</td>\n",
       "      <td>NaN</td>\n",
       "      <td>Y</td>\n",
       "      <td>18/SP</td>\n",
       "      <td>1718.0</td>\n",
       "      <td>Psychology</td>\n",
       "    </tr>\n",
       "    <tr>\n",
       "      <th>4</th>\n",
       "      <td>15/WI</td>\n",
       "      <td>GEN E299 49</td>\n",
       "      <td>Exploration Project</td>\n",
       "      <td>F</td>\n",
       "      <td>1.0</td>\n",
       "      <td>1.0</td>\n",
       "      <td>S</td>\n",
       "      <td>1.0</td>\n",
       "      <td>0.000</td>\n",
       "      <td>Vincent Gawronski</td>\n",
       "      <td>...</td>\n",
       "      <td>NaN</td>\n",
       "      <td>NaN</td>\n",
       "      <td>NaN</td>\n",
       "      <td>NaN</td>\n",
       "      <td>NaN</td>\n",
       "      <td>NaN</td>\n",
       "      <td>Y</td>\n",
       "      <td>18/SP</td>\n",
       "      <td>1718.0</td>\n",
       "      <td>Psychology</td>\n",
       "    </tr>\n",
       "  </tbody>\n",
       "</table>\n",
       "<p>5 rows × 34 columns</p>\n",
       "</div>"
      ],
      "text/plain": [
       "  Sttr Term      course_#                course_title Sttr Student Load  \\\n",
       "0     15/SP      DA 101 A                Basic Ballet                 F   \n",
       "1     15/SP   HI 155 A-ES           Reforming America                 F   \n",
       "2     15/SP   PL 200 A-CI              Ethical Choice                 F   \n",
       "3     15/SP  IDS 200 A-CI  Intro to Human Rights (GP)                 F   \n",
       "4     15/WI   GEN E299 49         Exploration Project                 F   \n",
       "\n",
       "   Sttr Stu Credits  Sttr Attempted Cred Sttr Stu Final Grades  \\\n",
       "0               0.5                  3.0                     W   \n",
       "1               1.0                  NaN                    A-   \n",
       "2               1.0                  NaN                    B+   \n",
       "3               1.0                  NaN                     A   \n",
       "4               1.0                  1.0                     S   \n",
       "\n",
       "   Sttr Cmpl Cred  Sttr Term Gpa            faculty  ...  FA5 Enr FA5 Class  \\\n",
       "0             3.0          3.667    Melissa Turnage  ...      NaN       NaN   \n",
       "1             3.0          3.667       Victoria Ott  ...      NaN       NaN   \n",
       "2             3.0          3.667      William Myers  ...      NaN       NaN   \n",
       "3             3.0          3.667  Sandra Sprayberry  ...      NaN       NaN   \n",
       "4             1.0          0.000  Vincent Gawronski  ...      NaN       NaN   \n",
       "\n",
       "  FA5 Major  FA6 Enr FA6 Class FA6 Major  Graduated Grad Term Grad Year  \\\n",
       "0       NaN      NaN       NaN       NaN          Y     18/SP    1718.0   \n",
       "1       NaN      NaN       NaN       NaN          Y     18/SP    1718.0   \n",
       "2       NaN      NaN       NaN       NaN          Y     18/SP    1718.0   \n",
       "3       NaN      NaN       NaN       NaN          Y     18/SP    1718.0   \n",
       "4       NaN      NaN       NaN       NaN          Y     18/SP    1718.0   \n",
       "\n",
       "   Grad Major  \n",
       "0  Psychology  \n",
       "1  Psychology  \n",
       "2  Psychology  \n",
       "3  Psychology  \n",
       "4  Psychology  \n",
       "\n",
       "[5 rows x 34 columns]"
      ]
     },
     "execution_count": 6,
     "metadata": {},
     "output_type": "execute_result"
    }
   ],
   "source": [
    "df.head()"
   ]
  },
  {
   "cell_type": "code",
   "execution_count": 18,
   "id": "f52818ba-06f0-434b-8996-d0fb431c6ed2",
   "metadata": {},
   "outputs": [
    {
     "name": "stdout",
     "output_type": "stream",
     "text": [
      "<class 'pandas.core.frame.DataFrame'>\n",
      "RangeIndex: 51537 entries, 0 to 51536\n",
      "Data columns (total 34 columns):\n",
      " #   Column                 Non-Null Count  Dtype  \n",
      "---  ------                 --------------  -----  \n",
      " 0   Sttr Term              51518 non-null  object \n",
      " 1   course_#               51518 non-null  object \n",
      " 2   course_title           51518 non-null  object \n",
      " 3   Sttr Student Load      51417 non-null  object \n",
      " 4   Sttr Stu Credits       51479 non-null  float64\n",
      " 5   Sttr Attempted Cred    46383 non-null  float64\n",
      " 6   Sttr Stu Final Grades  51518 non-null  object \n",
      " 7   Sttr Cmpl Cred         51417 non-null  float64\n",
      " 8   Sttr Term Gpa          51417 non-null  float64\n",
      " 9   faculty                51478 non-null  object \n",
      " 10  alt_id                 51518 non-null  float64\n",
      " 11  Cohort                 51537 non-null  object \n",
      " 12  SP1 Enr                50912 non-null  object \n",
      " 13  SP1 Class              50912 non-null  float64\n",
      " 14  SP1 Major              40420 non-null  object \n",
      " 15  FA2 Enr                48702 non-null  object \n",
      " 16  FA2 Class              48702 non-null  float64\n",
      " 17  FA2 Major              38538 non-null  object \n",
      " 18  FA3 Enr                42032 non-null  object \n",
      " 19  FA3 Class              42032 non-null  float64\n",
      " 20  FA3 Major              34119 non-null  object \n",
      " 21  FA4 Enr                35633 non-null  object \n",
      " 22  FA4 Class              35633 non-null  float64\n",
      " 23  FA4 Major              35633 non-null  object \n",
      " 24  FA5 Enr                2135 non-null   object \n",
      " 25  FA5 Class              2135 non-null   float64\n",
      " 26  FA5 Major              2095 non-null   object \n",
      " 27  FA6 Enr                284 non-null    object \n",
      " 28  FA6 Class              284 non-null    float64\n",
      " 29  FA6 Major              284 non-null    object \n",
      " 30  Graduated              40900 non-null  object \n",
      " 31  Grad Term              33533 non-null  object \n",
      " 32  Grad Year              33533 non-null  float64\n",
      " 33  Grad Major             32332 non-null  object \n",
      "dtypes: float64(12), object(22)\n",
      "memory usage: 13.4+ MB\n"
     ]
    }
   ],
   "source": [
    "df.info()"
   ]
  },
  {
   "cell_type": "code",
   "execution_count": 8,
   "id": "3cfd0a11-d597-4228-ac6f-a1d5a92aca9a",
   "metadata": {},
   "outputs": [
    {
     "data": {
      "text/plain": [
       "Index(['Sttr Term', 'course_#', 'course_title', 'Sttr Student Load',\n",
       "       'Sttr Stu Credits', 'Sttr Attempted Cred', 'Sttr Stu Final Grades',\n",
       "       'Sttr Cmpl Cred', 'Sttr Term Gpa', 'faculty', 'alt_id', 'Cohort',\n",
       "       'SP1 Enr', 'SP1 Class', 'SP1 Major', 'FA2 Enr', 'FA2 Class',\n",
       "       'FA2 Major', 'FA3 Enr', 'FA3 Class', 'FA3 Major', 'FA4 Enr',\n",
       "       'FA4 Class', 'FA4 Major', 'FA5 Enr', 'FA5 Class', 'FA5 Major',\n",
       "       'FA6 Enr', 'FA6 Class', 'FA6 Major', 'Graduated', 'Grad Term',\n",
       "       'Grad Year', 'Grad Major'],\n",
       "      dtype='object')"
      ]
     },
     "execution_count": 8,
     "metadata": {},
     "output_type": "execute_result"
    }
   ],
   "source": [
    "df.columns"
   ]
  },
  {
   "cell_type": "code",
   "execution_count": 13,
   "id": "8371e81c-05ab-43e9-90b7-ae31165aa917",
   "metadata": {},
   "outputs": [
    {
     "data": {
      "text/plain": [
       "Cohort  Graduated\n",
       "14/FA   N            2.376726\n",
       "        Y            3.187866\n",
       "15/FA   N            2.605404\n",
       "        Y            3.164591\n",
       "16/FA   N            2.725342\n",
       "        Y            3.262038\n",
       "17/FA   N            2.503164\n",
       "        Y            3.418876\n",
       "Name: Sttr Term Gpa, dtype: float64"
      ]
     },
     "execution_count": 13,
     "metadata": {},
     "output_type": "execute_result"
    }
   ],
   "source": [
    "grade_compare = df.groupby(['Cohort', 'Graduated'])['Sttr Term Gpa'].mean()\n",
    "grade_compare"
   ]
  },
  {
   "cell_type": "code",
   "execution_count": 17,
   "id": "3ac537bc-3569-4d83-81a5-79559f0432ae",
   "metadata": {},
   "outputs": [
    {
     "data": {
      "image/png": "[encoded data removed]",
      "text/plain": [
       "<Figure size 432x288 with 1 Axes>"
      ]
     },
     "metadata": {
      "needs_background": "light"
     },
     "output_type": "display_data"
    }
   ],
   "source": [
    "# plot multiple groupby (cohort and graduated)\n",
    "grade_compare.plot(kind='bar')\n",
    "plt.xticks(rotation=45)\n",
    "plt.show()"
   ]
  },
  {
   "cell_type": "code",
   "execution_count": 19,
   "id": "06ab9096-77e3-4bc4-ab8a-cc075b1f90eb",
   "metadata": {},
   "outputs": [
    {
     "data": {
      "text/plain": [
       "Grad Major\n",
       "Accounting                             1877\n",
       "Applied Computer Science                342\n",
       "Applied Computer Sciencee                65\n",
       "Architectural Studies                    78\n",
       "Art - Studio                            837\n",
       "Art History                              38\n",
       "Art-Art History                         206\n",
       "Asian Studies                           199\n",
       "Biology                                4131\n",
       "Business Administration                6049\n",
       "Chemistry                              1150\n",
       "Creative & Applied Computing            130\n",
       "Economics                               494\n",
       "Elem/Collaborative Education           1146\n",
       "English                                 760\n",
       "Global and Comparative Studies          284\n",
       "Health Sciences                        1370\n",
       "History                                1509\n",
       "Ind - Film & Theatre                     42\n",
       "Ind - Graphic Marketing                  34\n",
       "Ind - Human Rights & Conf Stud           40\n",
       "Ind - Human Rights & Justice             38\n",
       "Ind-Education                            34\n",
       "Ind-Media Marketing                      33\n",
       "Ind: Human Rights & Conf Stud            39\n",
       "Ind: Mass Media Communications           33\n",
       "Ind - Theatre Tech, Design, and Man      46\n",
       "Int-Musical Theatre                     113\n",
       "Math                                   1101\n",
       "Mathematical Finance                    131\n",
       "Mathematics                             609\n",
       "Media and Film Studies                  917\n",
       "Music                                   543\n",
       "Musical Theatre                         542\n",
       "Phil, History, and Law                   65\n",
       "Philosophy                              104\n",
       "Physics                                 794\n",
       "Political Science                       987\n",
       "Pre-Engineering                          26\n",
       "Psychology                             2850\n",
       "Religion                                745\n",
       "Sociology                               494\n",
       "Spanish                                  34\n",
       "Spanish for the Workplace               104\n",
       "Theatre Arts                            470\n",
       "Urban Environmental Studies             699\n",
       "Name: Grad Year, dtype: int64"
      ]
     },
     "execution_count": 19,
     "metadata": {},
     "output_type": "execute_result"
    }
   ],
   "source": [
    "degree_compare = df.groupby(['Grad Major'])['Grad Year'].count()\n",
    "degree_compare"
   ]
  },
  {
   "cell_type": "code",
   "execution_count": null,
   "id": "e28e0c75-3446-443b-aec5-6f092202ca5c",
   "metadata": {},
   "outputs": [],
   "source": []
  },
  {
   "cell_type": "code",
   "execution_count": null,
   "id": "73791320-679e-469d-9407-68e7ad01b690",
   "metadata": {},
   "outputs": [],
   "source": []
  },
  {
   "cell_type": "code",
   "execution_count": null,
   "id": "e2df6342-4fb1-477a-9709-9e00285e5839",
   "metadata": {},
   "outputs": [],
   "source": []
  },
  {
   "cell_type": "code",
   "execution_count": null,
   "id": "bdaa9466-8f61-427d-8800-7cdb3c77aa41",
   "metadata": {},
   "outputs": [],
   "source": []
  }
 ],
 "metadata": {
  "kernelspec": {
   "display_name": "Python 3",
   "language": "python",
   "name": "python3"
  },
  "language_info": {
   "codemirror_mode": {
    "name": "ipython",
    "version": 3
   },
   "file_extension": ".py",
   "mimetype": "text/x-python",
   "name": "python",
   "nbconvert_exporter": "python",
   "pygments_lexer": "ipython3",
   "version": "3.8.8"
  }
 },
 "nbformat": 4,
 "nbformat_minor": 5
}
