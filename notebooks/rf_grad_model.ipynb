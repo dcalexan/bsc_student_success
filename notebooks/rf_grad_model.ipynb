{
 "cells": [
  {
   "cell_type": "markdown",
   "id": "ba9a930a-3c79-4e9a-9f62-b85c99d2476c",
   "metadata": {},
   "source": [
    "## Random forest model for BSC graduation rates based on Freshman fall semester info"
   ]
  },
  {
   "cell_type": "code",
   "execution_count": 53,
   "id": "8853985d-1f68-4014-a639-33cc2ef0be1d",
   "metadata": {},
   "outputs": [],
   "source": [
    "import pandas as pd\n",
    "import matplotlib.pyplot as plt\n",
    "import seaborn as sns\n",
    "from sklearn.model_selection import train_test_split, GridSearchCV\n",
    "from sklearn.linear_model import LogisticRegression\n",
    "from sklearn.preprocessing import OneHotEncoder, StandardScaler, normalize\n",
    "from sklearn.tree import DecisionTreeClassifier\n",
    "from sklearn.ensemble import BaggingClassifier, RandomForestClassifier\n",
    "from sklearn.metrics import plot_confusion_matrix"
   ]
  },
  {
   "cell_type": "code",
   "execution_count": 24,
   "id": "0bdbda6f-a5fc-44ea-85f2-3194f449cc6c",
   "metadata": {},
   "outputs": [
    {
     "name": "stderr",
     "output_type": "stream",
     "text": [
      "C:\\Users\\pvanzand\\Anaconda3\\lib\\site-packages\\IPython\\core\\interactiveshell.py:3165: DtypeWarning: Columns (18,20,21,23,24,26,27,29,31,33) have mixed types.Specify dtype option on import or set low_memory=False.\n",
      "  has_raised = await self.run_ast_nodes(code_ast.body, cell_name,\n"
     ]
    }
   ],
   "source": [
    "df = pd.read_csv('../data/anonymized_bsc_dataPVZ.csv')"
   ]
  },
  {
   "cell_type": "code",
   "execution_count": 59,
   "id": "e3bb74f6-93de-4282-9ba9-a851b750b287",
   "metadata": {},
   "outputs": [],
   "source": [
    "#only select the 4 cohorts of interest\n",
    "df_4 = df.loc[(df['Cohort'] == '14/FA') | (df['Cohort'] == '15/FA') | (df['Cohort'] == '16/FA')\n",
    "              | (df['Cohort'] == '17/FA')]\n",
    "df_4 = df_4.dropna(subset=['Sttr Term'])\n",
    "#df_4"
   ]
  },
  {
   "cell_type": "code",
   "execution_count": 26,
   "id": "a0f9c6dc-5e11-4960-897f-ce52882e99d3",
   "metadata": {},
   "outputs": [],
   "source": [
    "#pull out just the avg gpa of the 1st semester\n",
    "df_sorted = df_4.sort_values(by = 'Sttr Term', ascending = True)\n",
    "df_dropped = df_sorted.drop_duplicates(subset=['alt_id'])"
   ]
  },
  {
   "cell_type": "code",
   "execution_count": 27,
   "id": "193c5bbd-1c2e-4af6-9302-140667117343",
   "metadata": {},
   "outputs": [],
   "source": [
    "#turning gpa data frame into a dictionary to be able to map it to our original dataframe\n",
    "gpa_map = df_dropped.set_index('alt_id')['Sttr Term Gpa'].to_dict()\n",
    "\n",
    "#making a new column in original data frame by mapping gpa\n",
    "df_4['ffall_gpa'] = df_4['alt_id'].map(gpa_map)"
   ]
  },
  {
   "cell_type": "code",
   "execution_count": 28,
   "id": "de141560-4095-4553-b193-4bc938800dc1",
   "metadata": {},
   "outputs": [],
   "source": [
    "#make new df of just basic freshman info\n",
    "df_simple = df_4.sort_values(by = 'Sttr Term', ascending = True)\n",
    "df_simple = df_simple.drop_duplicates(subset=['alt_id'])"
   ]
  },
  {
   "cell_type": "code",
   "execution_count": 29,
   "id": "ea8a61a8-0382-4be0-977d-c8b211dc4c62",
   "metadata": {},
   "outputs": [],
   "source": [
    "#drop all the extra columns that won't matter\n",
    "df_simple = df_simple.drop(columns = ['Sttr Term', 'course_#', 'course_title', 'Sttr Stu Credits', 'Sttr Attempted Cred', 'faculty',\n",
    "                                      'Sttr Stu Final Grades', 'Sttr Term Gpa', 'SP1 Enr', 'SP1 Class', 'SP1 Major', 'FA2 Enr', 'FA2 Class',\n",
    "                                      'FA2 Major', 'FA3 Enr', 'FA3 Class', 'FA4 Enr', 'FA4 Class', 'FA4 Major', 'FA5 Enr', 'faculty', \n",
    "                                      'FA3 Major', 'FA5 Class', 'FA5 Major', 'alt_id','FA6 Enr', 'FA6 Class', 'FA6 Major', 'Grad Term', \n",
    "                                      'Grad Year', 'Grad Major'])"
   ]
  },
  {
   "cell_type": "code",
   "execution_count": 30,
   "id": "26ae4b89-824f-4e1f-9e49-1416c088ef94",
   "metadata": {},
   "outputs": [],
   "source": [
    "#set X & y, do TTS\n",
    "y = df_simple['Graduated']\n",
    "X = df_simple.drop(columns=['Graduated'], axis=1)"
   ]
  },
  {
   "cell_type": "code",
   "execution_count": 31,
   "id": "57bf3031-69c1-4371-b06a-6ac70f2b8638",
   "metadata": {},
   "outputs": [],
   "source": [
    "#recode the graduation column so that N = 0 & Y = 1\n",
    "mapping = {'N': 0, 'Y': 1}\n",
    "y = y.map(mapping)\n",
    "\n",
    "#initial TTS\n",
    "X_tr, X_test, y_tr, y_test = train_test_split(X, y, test_size=.25, random_state=2021)\n",
    "#generate validation set\n",
    "X_train, X_val, y_train, y_val = train_test_split(X_tr, y_tr, test_size=.25, random_state=2021)"
   ]
  },
  {
   "cell_type": "code",
   "execution_count": 32,
   "id": "b2c75562-b27b-46ad-83c9-b53ce676df80",
   "metadata": {},
   "outputs": [
    {
     "name": "stdout",
     "output_type": "stream",
     "text": [
      "['Sttr Cmpl Cred', 'ffall_gpa']\n",
      "['Sttr Student Load', 'Cohort']\n"
     ]
    }
   ],
   "source": [
    "# need to OHE categorical & scale continuous\n",
    "num_cols = list(X_train.select_dtypes('number').columns)\n",
    "print (num_cols)\n",
    "cat_cols = list(X_train.select_dtypes('object').columns)\n",
    "print (cat_cols)\n"
   ]
  },
  {
   "cell_type": "code",
   "execution_count": null,
   "id": "416ca71e-44bf-4d43-846d-1e61af2f886d",
   "metadata": {},
   "outputs": [],
   "source": []
  },
  {
   "cell_type": "code",
   "execution_count": 33,
   "id": "224644e8-c697-46e1-b7d9-91e3686e359b",
   "metadata": {},
   "outputs": [],
   "source": [
    "#scale both train & test continuous variables\n",
    "\n",
    "# Instantiate StandardScaler\n",
    "scaler = StandardScaler()\n",
    "# fit on Imputed training data\n",
    "scaler.fit(X_train[num_cols])\n",
    "# transform training, validation, & tr data\n",
    "X_train_scaled = pd.DataFrame(scaler.transform(X_train[num_cols]), columns=num_cols)\n",
    "X_val_scaled = pd.DataFrame(scaler.transform(X_val[num_cols]), columns=num_cols)\n",
    "X_tr_scaled = pd.DataFrame(scaler.transform(X_tr[num_cols]), columns=num_cols)"
   ]
  },
  {
   "cell_type": "code",
   "execution_count": 34,
   "id": "caf47d91-0d97-424f-8481-7c1826733635",
   "metadata": {},
   "outputs": [],
   "source": [
    "#encode just categorical features\n",
    "# fit on categorical data\n",
    "ohe = OneHotEncoder(sparse=False, handle_unknown='ignore')\n",
    "ohe.fit(X_train[cat_cols])\n",
    "# transform training and validation data\n",
    "X_train_encoded = ohe.transform(X_train[cat_cols])\n",
    "X_val_encoded = ohe.transform(X_val[cat_cols])\n",
    "X_tr_encoded = ohe.transform(X_tr[cat_cols])"
   ]
  },
  {
   "cell_type": "code",
   "execution_count": 35,
   "id": "c317c3bc-28ff-4fe0-a793-5bf6c97280dc",
   "metadata": {},
   "outputs": [],
   "source": [
    "#convert categorical back to dataframe\n",
    "X_train_encoded_df = pd.DataFrame(X_train_encoded, columns=ohe.get_feature_names())\n",
    "X_val_encoded_df = pd.DataFrame(X_val_encoded, columns=ohe.get_feature_names())\n",
    "X_tr_encoded_df = pd.DataFrame(X_tr_encoded, columns=ohe.get_feature_names())"
   ]
  },
  {
   "cell_type": "code",
   "execution_count": 36,
   "id": "8d8d737d-170e-4539-b426-079acbcfaac5",
   "metadata": {},
   "outputs": [],
   "source": [
    "#concatenate the two back together again\n",
    "X_train_df = pd.concat([X_train_scaled, X_train_encoded_df], axis=1)\n",
    "X_val_df = pd.concat([X_val_scaled, X_val_encoded_df], axis=1)\n",
    "X_tr_df = pd.concat([X_tr_scaled, X_tr_encoded_df], axis=1)"
   ]
  },
  {
   "cell_type": "markdown",
   "id": "44131477-c82b-4593-8497-54fea614f0db",
   "metadata": {},
   "source": [
    "### Random forests classifier"
   ]
  },
  {
   "cell_type": "code",
   "execution_count": 64,
   "id": "cd7ce68d-c113-47e0-befa-7127bffeaca6",
   "metadata": {},
   "outputs": [],
   "source": [
    "#Instantiate the RF model\n",
    "\n",
    "rf_model = RandomForestClassifier(n_estimators = 100) "
   ]
  },
  {
   "cell_type": "code",
   "execution_count": 65,
   "id": "47f52261-ddcd-45bf-bc6e-97bd1d4d073e",
   "metadata": {},
   "outputs": [
    {
     "data": {
      "text/plain": [
       "RandomForestClassifier()"
      ]
     },
     "execution_count": 65,
     "metadata": {},
     "output_type": "execute_result"
    }
   ],
   "source": [
    "rf_model.fit(X_train_df, y_train)"
   ]
  },
  {
   "cell_type": "code",
   "execution_count": 66,
   "id": "8529efac-755f-462c-a08a-2a2de2596096",
   "metadata": {},
   "outputs": [
    {
     "data": {
      "text/plain": [
       "0.8643031784841075"
      ]
     },
     "execution_count": 66,
     "metadata": {},
     "output_type": "execute_result"
    }
   ],
   "source": [
    "# Training accuracy score\n",
    "rf_model.score(X_train_df, y_train)"
   ]
  },
  {
   "cell_type": "code",
   "execution_count": 67,
   "id": "c15e26d0-2f37-4190-8b52-b513b27a1225",
   "metadata": {},
   "outputs": [
    {
     "data": {
      "text/plain": [
       "<sklearn.metrics._plot.confusion_matrix.ConfusionMatrixDisplay at 0x20793d1cac0>"
      ]
     },
     "execution_count": 67,
     "metadata": {},
     "output_type": "execute_result"
    },
    {
     "data": {
      "image/png": "[encoded data removed]",
      "text/plain": [
       "<Figure size 432x288 with 2 Axes>"
      ]
     },
     "metadata": {},
     "output_type": "display_data"
    }
   ],
   "source": [
    "#plot confusion matrix\n",
    "plot_confusion_matrix(rf_model, X_train_df, y_train)"
   ]
  },
  {
   "cell_type": "code",
   "execution_count": 61,
   "id": "4a6ab699-2c58-40eb-8a57-cbd2ee38ffd3",
   "metadata": {},
   "outputs": [
    {
     "data": {
      "text/plain": [
       "array([0.16896621, 0.76690008, 0.00099261, 0.00119632, 0.01727539,\n",
       "       0.01676075, 0.00975877, 0.01814987])"
      ]
     },
     "execution_count": 61,
     "metadata": {},
     "output_type": "execute_result"
    }
   ],
   "source": [
    "rf_model.feature_importances_"
   ]
  },
  {
   "cell_type": "code",
   "execution_count": 62,
   "id": "0d42bd98-e115-486f-be14-2baa54c83eb9",
   "metadata": {},
   "outputs": [
    {
     "name": "stdout",
     "output_type": "stream",
     "text": [
      "[0.16896621 0.76690008 0.00099261 0.00119632 0.01727539 0.01676075\n",
      " 0.00975877 0.01814987]\n"
     ]
    },
    {
     "data": {
      "image/png": "[encoded data removed]",
      "text/plain": [
       "<Figure size 432x288 with 1 Axes>"
      ]
     },
     "metadata": {},
     "output_type": "display_data"
    }
   ],
   "source": [
    "#visualize important features in this RF model\n",
    "features = X_train_df.columns\n",
    "print(rf_model.feature_importances_)\n",
    "feature_df = pd.DataFrame({'Importance':rf_model.feature_importances_, 'Features': features })\n",
    "sns.set()\n",
    "plt.bar(feature_df['Features'], feature_df['Importance'])\n",
    "plt.xticks(rotation=90)\n",
    "plt.title('Random Forest Model Feature Importance')\n",
    "plt.show()"
   ]
  },
  {
   "cell_type": "markdown",
   "id": "5d5aebce-21d0-4b0d-af36-487abeafef9e",
   "metadata": {},
   "source": [
    "### gridsearch for RF model"
   ]
  },
  {
   "cell_type": "code",
   "execution_count": 72,
   "id": "723a8be3-f7fd-48c3-a1ac-17333be6609b",
   "metadata": {},
   "outputs": [],
   "source": [
    "# Create Param Grid \n",
    "param_grid = {'n_estimators': [90, 100, 110],\n",
    "                'max_depth': [10, 15, 20],\n",
    "                'min_samples_leaf': [6, 7, 8]}"
   ]
  },
  {
   "cell_type": "code",
   "execution_count": 73,
   "id": "01f59506-94f3-4678-85df-81d125bbf61a",
   "metadata": {},
   "outputs": [],
   "source": [
    "# Create GridSearchCV\n",
    "rf_gs = GridSearchCV(estimator=rf_model, param_grid=param_grid, scoring='accuracy')"
   ]
  },
  {
   "cell_type": "code",
   "execution_count": 74,
   "id": "ff124089-508f-4091-a8b0-9679ce8ae9c2",
   "metadata": {},
   "outputs": [
    {
     "data": {
      "text/plain": [
       "GridSearchCV(estimator=RandomForestClassifier(),\n",
       "             param_grid={'max_depth': [10, 15, 20],\n",
       "                         'min_samples_leaf': [6, 7, 8],\n",
       "                         'n_estimators': [90, 100, 110]},\n",
       "             scoring='accuracy')"
      ]
     },
     "execution_count": 74,
     "metadata": {},
     "output_type": "execute_result"
    }
   ],
   "source": [
    "rf_gs.fit(X_train_df, y_train)"
   ]
  },
  {
   "cell_type": "code",
   "execution_count": 75,
   "id": "076941a7-5172-4f7a-a457-31c82d73151a",
   "metadata": {},
   "outputs": [],
   "source": [
    "best_model = rf_gs.best_estimator_"
   ]
  },
  {
   "cell_type": "code",
   "execution_count": 76,
   "id": "0ab4f3d9-5064-4d79-837b-b827b064fbfa",
   "metadata": {},
   "outputs": [
    {
     "data": {
      "text/plain": [
       "{'max_depth': 10, 'min_samples_leaf': 8, 'n_estimators': 100}"
      ]
     },
     "execution_count": 76,
     "metadata": {},
     "output_type": "execute_result"
    }
   ],
   "source": [
    "rf_gs.best_params_"
   ]
  },
  {
   "cell_type": "markdown",
   "id": "a8691437-484a-49cc-bd89-bea205825aab",
   "metadata": {},
   "source": [
    "The best parameters from the grid search are (actually, they're all pretty comparable):\n",
    "{'max_depth': 10, 'min_samples_leaf': 7, 'n_estimators': 75}\n",
    "{'max_depth': 15, 'min_samples_leaf': 7, 'n_estimators': 100}\n",
    "{'max_depth': 10, 'min_samples_leaf': 8, 'n_estimators': 100}"
   ]
  },
  {
   "cell_type": "markdown",
   "id": "14da3df7-702b-49f0-9d1e-ad3372ce7a9a",
   "metadata": {},
   "source": [
    "### running RF w/ best params & eval on validation, then test sets"
   ]
  },
  {
   "cell_type": "code",
   "execution_count": 80,
   "id": "935ca118-a72f-4b74-9ca7-7c4defdf480a",
   "metadata": {},
   "outputs": [],
   "source": [
    "rf_best = RandomForestClassifier(max_depth= 15, min_samples_leaf= 7, n_estimators= 100) "
   ]
  },
  {
   "cell_type": "code",
   "execution_count": 81,
   "id": "3aaf1d6e-a711-4299-9090-d8ae690f4f84",
   "metadata": {},
   "outputs": [
    {
     "data": {
      "text/plain": [
       "RandomForestClassifier(max_depth=15, min_samples_leaf=7)"
      ]
     },
     "execution_count": 81,
     "metadata": {},
     "output_type": "execute_result"
    }
   ],
   "source": [
    "rf_best.fit(X_train_df, y_train)"
   ]
  },
  {
   "cell_type": "code",
   "execution_count": 82,
   "id": "6c1437b4-44b1-4625-b63c-a99d9c6666ce",
   "metadata": {},
   "outputs": [
    {
     "data": {
      "text/plain": [
       "0.7591687041564792"
      ]
     },
     "execution_count": 82,
     "metadata": {},
     "output_type": "execute_result"
    }
   ],
   "source": [
    "# Training accuracy score\n",
    "rf_best.score(X_train_df, y_train)"
   ]
  },
  {
   "cell_type": "code",
   "execution_count": 84,
   "id": "0c7c2b2d-27b8-4c2c-bda0-d352ff6ac4b6",
   "metadata": {},
   "outputs": [
    {
     "data": {
      "text/plain": [
       "<sklearn.metrics._plot.confusion_matrix.ConfusionMatrixDisplay at 0x207944afe80>"
      ]
     },
     "execution_count": 84,
     "metadata": {},
     "output_type": "execute_result"
    },
    {
     "data": {
      "image/png": "[encoded data removed]",
      "text/plain": [
       "<Figure size 432x288 with 2 Axes>"
      ]
     },
     "metadata": {},
     "output_type": "display_data"
    }
   ],
   "source": [
    "#plot confusion matrix\n",
    "plot_confusion_matrix(rf_best, X_train_df, y_train)"
   ]
  },
  {
   "cell_type": "code",
   "execution_count": 83,
   "id": "64e5d487-d42c-4e21-8b08-295e1d7774f9",
   "metadata": {},
   "outputs": [
    {
     "data": {
      "text/plain": [
       "0.6886446886446886"
      ]
     },
     "execution_count": 83,
     "metadata": {},
     "output_type": "execute_result"
    }
   ],
   "source": [
    "# test accuracy score\n",
    "rf_best.score(X_val_df, y_val)"
   ]
  },
  {
   "cell_type": "code",
   "execution_count": 86,
   "id": "0b10eb69-7cd2-4bd3-9616-97c82ffc2c8f",
   "metadata": {},
   "outputs": [],
   "source": [
    "#making predictions\n",
    "# y_pred = rf_best.predict(X_val)"
   ]
  },
  {
   "cell_type": "code",
   "execution_count": null,
   "id": "195d1e41-10d9-4b44-9e36-991e4c1d83c8",
   "metadata": {},
   "outputs": [],
   "source": []
  }
 ],
 "metadata": {
  "kernelspec": {
   "display_name": "Python 3",
   "language": "python",
   "name": "python3"
  },
  "language_info": {
   "codemirror_mode": {
    "name": "ipython",
    "version": 3
   },
   "file_extension": ".py",
   "mimetype": "text/x-python",
   "name": "python",
   "nbconvert_exporter": "python",
   "pygments_lexer": "ipython3",
   "version": "3.8.8"
  }
 },
 "nbformat": 4,
 "nbformat_minor": 5
}
