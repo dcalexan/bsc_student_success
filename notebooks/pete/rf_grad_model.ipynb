{
 "cells": [
  {
   "cell_type": "markdown",
   "id": "ba9a930a-3c79-4e9a-9f62-b85c99d2476c",
   "metadata": {},
   "source": [
    "## Random forest model for BSC graduation rates based on Freshman fall semester info"
   ]
  },
  {
   "cell_type": "code",
   "execution_count": 202,
   "id": "8853985d-1f68-4014-a639-33cc2ef0be1d",
   "metadata": {},
   "outputs": [],
   "source": [
    "import pickle\n",
    "import pandas as pd\n",
    "import numpy as np\n",
    "import matplotlib.pyplot as plt\n",
    "import seaborn as sns\n",
    "from sklearn.model_selection import train_test_split, GridSearchCV\n",
    "from sklearn.linear_model import LogisticRegression\n",
    "from sklearn.preprocessing import OneHotEncoder, StandardScaler, normalize\n",
    "from sklearn.tree import DecisionTreeClassifier\n",
    "from sklearn.ensemble import BaggingClassifier, RandomForestClassifier\n",
    "from sklearn.metrics import plot_confusion_matrix\n",
    "from sklearn.inspection import permutation_importance, plot_partial_dependence"
   ]
  },
  {
   "cell_type": "code",
   "execution_count": 2,
   "id": "0bdbda6f-a5fc-44ea-85f2-3194f449cc6c",
   "metadata": {},
   "outputs": [
    {
     "name": "stderr",
     "output_type": "stream",
     "text": [
      "C:\\Users\\pvanzand\\Anaconda3\\lib\\site-packages\\IPython\\core\\interactiveshell.py:3165: DtypeWarning: Columns (18,20,21,23,24,26,27,29,31,33) have mixed types.Specify dtype option on import or set low_memory=False.\n",
      "  has_raised = await self.run_ast_nodes(code_ast.body, cell_name,\n"
     ]
    }
   ],
   "source": [
    "df = pd.read_csv('../data/anonymized_bsc_dataPVZ.csv')"
   ]
  },
  {
   "cell_type": "code",
   "execution_count": 3,
   "id": "e3bb74f6-93de-4282-9ba9-a851b750b287",
   "metadata": {},
   "outputs": [],
   "source": [
    "#only select the 4 cohorts of interest\n",
    "df_4 = df.loc[(df['Cohort'] == '14/FA') | (df['Cohort'] == '15/FA') | (df['Cohort'] == '16/FA')\n",
    "              | (df['Cohort'] == '17/FA')]\n",
    "df_4 = df_4.dropna(subset=['Sttr Term'])\n",
    "#df_4"
   ]
  },
  {
   "cell_type": "code",
   "execution_count": 4,
   "id": "a0f9c6dc-5e11-4960-897f-ce52882e99d3",
   "metadata": {},
   "outputs": [],
   "source": [
    "#pull out just the avg gpa of the 1st semester\n",
    "df_sorted = df_4.sort_values(by = 'Sttr Term', ascending = True)\n",
    "df_dropped = df_sorted.drop_duplicates(subset=['alt_id'])"
   ]
  },
  {
   "cell_type": "code",
   "execution_count": 5,
   "id": "193c5bbd-1c2e-4af6-9302-140667117343",
   "metadata": {},
   "outputs": [],
   "source": [
    "#turning gpa data frame into a dictionary to be able to map it to our original dataframe\n",
    "gpa_map = df_dropped.set_index('alt_id')['Sttr Term Gpa'].to_dict()\n",
    "\n",
    "#making a new column in original data frame by mapping gpa\n",
    "df_4['ffall_gpa'] = df_4['alt_id'].map(gpa_map)"
   ]
  },
  {
   "cell_type": "code",
   "execution_count": 6,
   "id": "de141560-4095-4553-b193-4bc938800dc1",
   "metadata": {},
   "outputs": [],
   "source": [
    "#make new df of just basic freshman info\n",
    "df_simple = df_4.sort_values(by = 'Sttr Term', ascending = True)\n",
    "df_simple = df_simple.drop_duplicates(subset=['alt_id'])"
   ]
  },
  {
   "cell_type": "code",
   "execution_count": 7,
   "id": "ea8a61a8-0382-4be0-977d-c8b211dc4c62",
   "metadata": {},
   "outputs": [],
   "source": [
    "#drop all the extra columns that won't matter\n",
    "df_simple = df_simple.drop(columns = ['Sttr Term', 'course_#', 'course_title', 'Sttr Stu Credits', 'Sttr Attempted Cred', 'faculty',\n",
    "                                      'Sttr Stu Final Grades', 'Sttr Term Gpa', 'SP1 Enr', 'SP1 Class', 'SP1 Major', 'FA2 Enr', 'FA2 Class',\n",
    "                                      'FA2 Major', 'FA3 Enr', 'FA3 Class', 'FA4 Enr', 'FA4 Class', 'FA4 Major', 'FA5 Enr', 'faculty', \n",
    "                                      'FA3 Major', 'FA5 Class', 'FA5 Major', 'alt_id','FA6 Enr', 'FA6 Class', 'FA6 Major', 'Grad Term', \n",
    "                                      'Grad Year', 'Grad Major'])"
   ]
  },
  {
   "cell_type": "code",
   "execution_count": 8,
   "id": "26ae4b89-824f-4e1f-9e49-1416c088ef94",
   "metadata": {},
   "outputs": [],
   "source": [
    "#set X & y, do TTS\n",
    "y = df_simple['Graduated']\n",
    "X = df_simple.drop(columns=['Graduated'], axis=1)"
   ]
  },
  {
   "cell_type": "code",
   "execution_count": 9,
   "id": "57bf3031-69c1-4371-b06a-6ac70f2b8638",
   "metadata": {},
   "outputs": [],
   "source": [
    "#recode the graduation column so that N = 0 & Y = 1\n",
    "mapping = {'N': 0, 'Y': 1}\n",
    "y = y.map(mapping)\n",
    "\n",
    "#initial TTS\n",
    "X_tr, X_test, y_tr, y_test = train_test_split(X, y, test_size=.25, random_state=2021)\n",
    "#generate validation set\n",
    "X_train, X_val, y_train, y_val = train_test_split(X_tr, y_tr, test_size=.25, random_state=2021)"
   ]
  },
  {
   "cell_type": "code",
   "execution_count": 10,
   "id": "b2c75562-b27b-46ad-83c9-b53ce676df80",
   "metadata": {},
   "outputs": [
    {
     "name": "stdout",
     "output_type": "stream",
     "text": [
      "['Sttr Cmpl Cred', 'ffall_gpa']\n",
      "['Sttr Student Load', 'Cohort']\n"
     ]
    }
   ],
   "source": [
    "# need to OHE categorical & scale continuous\n",
    "num_cols = list(X_train.select_dtypes('number').columns)\n",
    "print (num_cols)\n",
    "cat_cols = list(X_train.select_dtypes('object').columns)\n",
    "print (cat_cols)\n"
   ]
  },
  {
   "cell_type": "code",
   "execution_count": null,
   "id": "416ca71e-44bf-4d43-846d-1e61af2f886d",
   "metadata": {},
   "outputs": [],
   "source": []
  },
  {
   "cell_type": "code",
   "execution_count": 11,
   "id": "224644e8-c697-46e1-b7d9-91e3686e359b",
   "metadata": {},
   "outputs": [],
   "source": [
    "#scale both train & test continuous variables\n",
    "\n",
    "# Instantiate StandardScaler\n",
    "scaler = StandardScaler()\n",
    "# fit on Imputed training data\n",
    "scaler.fit(X_train[num_cols])\n",
    "# transform training, validation, & tr data\n",
    "X_train_scaled = pd.DataFrame(scaler.transform(X_train[num_cols]), columns=num_cols)\n",
    "X_val_scaled = pd.DataFrame(scaler.transform(X_val[num_cols]), columns=num_cols)\n",
    "X_tr_scaled = pd.DataFrame(scaler.transform(X_tr[num_cols]), columns=num_cols)"
   ]
  },
  {
   "cell_type": "code",
   "execution_count": 12,
   "id": "caf47d91-0d97-424f-8481-7c1826733635",
   "metadata": {},
   "outputs": [],
   "source": [
    "#encode just categorical features\n",
    "# fit on categorical data\n",
    "ohe = OneHotEncoder(sparse=False, handle_unknown='ignore')\n",
    "ohe.fit(X_train[cat_cols])\n",
    "# transform training and validation data\n",
    "X_train_encoded = ohe.transform(X_train[cat_cols])\n",
    "X_val_encoded = ohe.transform(X_val[cat_cols])\n",
    "X_tr_encoded = ohe.transform(X_tr[cat_cols])"
   ]
  },
  {
   "cell_type": "code",
   "execution_count": 13,
   "id": "c317c3bc-28ff-4fe0-a793-5bf6c97280dc",
   "metadata": {},
   "outputs": [],
   "source": [
    "#convert categorical back to dataframe\n",
    "X_train_encoded_df = pd.DataFrame(X_train_encoded, columns=ohe.get_feature_names())\n",
    "X_val_encoded_df = pd.DataFrame(X_val_encoded, columns=ohe.get_feature_names())\n",
    "X_tr_encoded_df = pd.DataFrame(X_tr_encoded, columns=ohe.get_feature_names())"
   ]
  },
  {
   "cell_type": "code",
   "execution_count": 14,
   "id": "8d8d737d-170e-4539-b426-079acbcfaac5",
   "metadata": {},
   "outputs": [],
   "source": [
    "#concatenate the two back together again\n",
    "X_train_df = pd.concat([X_train_scaled, X_train_encoded_df], axis=1)\n",
    "X_val_df = pd.concat([X_val_scaled, X_val_encoded_df], axis=1)\n",
    "X_tr_df = pd.concat([X_tr_scaled, X_tr_encoded_df], axis=1)"
   ]
  },
  {
   "cell_type": "markdown",
   "id": "44131477-c82b-4593-8497-54fea614f0db",
   "metadata": {},
   "source": [
    "### Random forests classifier"
   ]
  },
  {
   "cell_type": "code",
   "execution_count": 15,
   "id": "cd7ce68d-c113-47e0-befa-7127bffeaca6",
   "metadata": {},
   "outputs": [],
   "source": [
    "#Instantiate the RF model\n",
    "\n",
    "rf_model = RandomForestClassifier(n_estimators = 100) "
   ]
  },
  {
   "cell_type": "code",
   "execution_count": 16,
   "id": "47f52261-ddcd-45bf-bc6e-97bd1d4d073e",
   "metadata": {},
   "outputs": [
    {
     "data": {
      "text/plain": [
       "RandomForestClassifier()"
      ]
     },
     "execution_count": 16,
     "metadata": {},
     "output_type": "execute_result"
    }
   ],
   "source": [
    "rf_model.fit(X_train_df, y_train)"
   ]
  },
  {
   "cell_type": "code",
   "execution_count": 17,
   "id": "8529efac-755f-462c-a08a-2a2de2596096",
   "metadata": {},
   "outputs": [
    {
     "data": {
      "text/plain": [
       "0.8643031784841075"
      ]
     },
     "execution_count": 17,
     "metadata": {},
     "output_type": "execute_result"
    }
   ],
   "source": [
    "# Training accuracy score\n",
    "rf_model.score(X_train_df, y_train)"
   ]
  },
  {
   "cell_type": "code",
   "execution_count": 18,
   "id": "c15e26d0-2f37-4190-8b52-b513b27a1225",
   "metadata": {},
   "outputs": [
    {
     "data": {
      "text/plain": [
       "<sklearn.metrics._plot.confusion_matrix.ConfusionMatrixDisplay at 0x18ab0cb7790>"
      ]
     },
     "execution_count": 18,
     "metadata": {},
     "output_type": "execute_result"
    },
    {
     "data": {
      "image/png": "[encoded data removed]",
      "text/plain": [
       "<Figure size 432x288 with 2 Axes>"
      ]
     },
     "metadata": {
      "needs_background": "light"
     },
     "output_type": "display_data"
    }
   ],
   "source": [
    "#plot confusion matrix\n",
    "plot_confusion_matrix(rf_model, X_train_df, y_train)"
   ]
  },
  {
   "cell_type": "code",
   "execution_count": 19,
   "id": "4a6ab699-2c58-40eb-8a57-cbd2ee38ffd3",
   "metadata": {},
   "outputs": [
    {
     "data": {
      "text/plain": [
       "array([0.17359471, 0.7620341 , 0.00133775, 0.00083772, 0.01458297,\n",
       "       0.01350233, 0.01202971, 0.0220807 ])"
      ]
     },
     "execution_count": 19,
     "metadata": {},
     "output_type": "execute_result"
    }
   ],
   "source": [
    "rf_model.feature_importances_"
   ]
  },
  {
   "cell_type": "code",
   "execution_count": 20,
   "id": "0d42bd98-e115-486f-be14-2baa54c83eb9",
   "metadata": {},
   "outputs": [
    {
     "name": "stdout",
     "output_type": "stream",
     "text": [
      "[0.17359471 0.7620341  0.00133775 0.00083772 0.01458297 0.01350233\n",
      " 0.01202971 0.0220807 ]\n"
     ]
    },
    {
     "data": {
      "image/png": "[encoded data removed]",
      "text/plain": [
       "<Figure size 432x288 with 1 Axes>"
      ]
     },
     "metadata": {},
     "output_type": "display_data"
    }
   ],
   "source": [
    "#visualize important features in this RF model\n",
    "features = X_train_df.columns\n",
    "print(rf_model.feature_importances_)\n",
    "feature_df = pd.DataFrame({'Importance':rf_model.feature_importances_, 'Features': features })\n",
    "sns.set()\n",
    "plt.bar(feature_df['Features'], feature_df['Importance'])\n",
    "plt.xticks(rotation=90)\n",
    "plt.title('Random Forest Model Feature Importance')\n",
    "plt.show()"
   ]
  },
  {
   "cell_type": "markdown",
   "id": "5d5aebce-21d0-4b0d-af36-487abeafef9e",
   "metadata": {},
   "source": [
    "### gridsearch for RF model"
   ]
  },
  {
   "cell_type": "code",
   "execution_count": 21,
   "id": "723a8be3-f7fd-48c3-a1ac-17333be6609b",
   "metadata": {},
   "outputs": [],
   "source": [
    "# Create Param Grid \n",
    "param_grid = {'n_estimators': [90, 100, 110],\n",
    "                'max_depth': [10, 15, 20],\n",
    "                'min_samples_leaf': [6, 7, 8]}"
   ]
  },
  {
   "cell_type": "code",
   "execution_count": 22,
   "id": "01f59506-94f3-4678-85df-81d125bbf61a",
   "metadata": {},
   "outputs": [],
   "source": [
    "# Create GridSearchCV\n",
    "rf_gs = GridSearchCV(estimator=rf_model, param_grid=param_grid, scoring='accuracy')"
   ]
  },
  {
   "cell_type": "code",
   "execution_count": 23,
   "id": "ff124089-508f-4091-a8b0-9679ce8ae9c2",
   "metadata": {},
   "outputs": [
    {
     "data": {
      "text/plain": [
       "GridSearchCV(estimator=RandomForestClassifier(),\n",
       "             param_grid={'max_depth': [10, 15, 20],\n",
       "                         'min_samples_leaf': [6, 7, 8],\n",
       "                         'n_estimators': [90, 100, 110]},\n",
       "             scoring='accuracy')"
      ]
     },
     "execution_count": 23,
     "metadata": {},
     "output_type": "execute_result"
    }
   ],
   "source": [
    "rf_gs.fit(X_train_df, y_train)"
   ]
  },
  {
   "cell_type": "code",
   "execution_count": 24,
   "id": "076941a7-5172-4f7a-a457-31c82d73151a",
   "metadata": {},
   "outputs": [],
   "source": [
    "best_model = rf_gs.best_estimator_"
   ]
  },
  {
   "cell_type": "code",
   "execution_count": 25,
   "id": "0ab4f3d9-5064-4d79-837b-b827b064fbfa",
   "metadata": {},
   "outputs": [
    {
     "data": {
      "text/plain": [
       "{'max_depth': 15, 'min_samples_leaf': 7, 'n_estimators': 110}"
      ]
     },
     "execution_count": 25,
     "metadata": {},
     "output_type": "execute_result"
    }
   ],
   "source": [
    "rf_gs.best_params_"
   ]
  },
  {
   "cell_type": "markdown",
   "id": "a8691437-484a-49cc-bd89-bea205825aab",
   "metadata": {},
   "source": [
    "The best parameters from the grid search are (actually, they're all pretty comparable):\n",
    "{'max_depth': 10, 'min_samples_leaf': 7, 'n_estimators': 75}\n",
    "{'max_depth': 15, 'min_samples_leaf': 7, 'n_estimators': 100}\n",
    "{'max_depth': 10, 'min_samples_leaf': 8, 'n_estimators': 100}"
   ]
  },
  {
   "cell_type": "markdown",
   "id": "14da3df7-702b-49f0-9d1e-ad3372ce7a9a",
   "metadata": {},
   "source": [
    "### running RF w/ best params & eval on validation, then test sets"
   ]
  },
  {
   "cell_type": "code",
   "execution_count": 26,
   "id": "935ca118-a72f-4b74-9ca7-7c4defdf480a",
   "metadata": {},
   "outputs": [],
   "source": [
    "rf_best = RandomForestClassifier(max_depth= 15, min_samples_leaf= 7, n_estimators= 100) "
   ]
  },
  {
   "cell_type": "code",
   "execution_count": 27,
   "id": "3aaf1d6e-a711-4299-9090-d8ae690f4f84",
   "metadata": {},
   "outputs": [
    {
     "data": {
      "text/plain": [
       "RandomForestClassifier(max_depth=15, min_samples_leaf=7)"
      ]
     },
     "execution_count": 27,
     "metadata": {},
     "output_type": "execute_result"
    }
   ],
   "source": [
    "rf_best.fit(X_train_df, y_train)"
   ]
  },
  {
   "cell_type": "code",
   "execution_count": null,
   "id": "d51a53ce-c261-45a0-bfaa-8fada96d810d",
   "metadata": {},
   "outputs": [],
   "source": []
  },
  {
   "cell_type": "code",
   "execution_count": 28,
   "id": "6c1437b4-44b1-4625-b63c-a99d9c6666ce",
   "metadata": {},
   "outputs": [
    {
     "data": {
      "text/plain": [
       "0.7530562347188264"
      ]
     },
     "execution_count": 28,
     "metadata": {},
     "output_type": "execute_result"
    }
   ],
   "source": [
    "# Training accuracy score\n",
    "rf_best.score(X_train_df, y_train)"
   ]
  },
  {
   "cell_type": "code",
   "execution_count": 29,
   "id": "0c7c2b2d-27b8-4c2c-bda0-d352ff6ac4b6",
   "metadata": {},
   "outputs": [
    {
     "data": {
      "text/plain": [
       "<sklearn.metrics._plot.confusion_matrix.ConfusionMatrixDisplay at 0x18aac8f2850>"
      ]
     },
     "execution_count": 29,
     "metadata": {},
     "output_type": "execute_result"
    },
    {
     "data": {
      "image/png": "[encoded data removed]",
      "text/plain": [
       "<Figure size 432x288 with 2 Axes>"
      ]
     },
     "metadata": {},
     "output_type": "display_data"
    }
   ],
   "source": [
    "#plot confusion matrix\n",
    "plot_confusion_matrix(rf_best, X_train_df, y_train)"
   ]
  },
  {
   "cell_type": "code",
   "execution_count": 30,
   "id": "64e5d487-d42c-4e21-8b08-295e1d7774f9",
   "metadata": {},
   "outputs": [
    {
     "data": {
      "text/plain": [
       "0.7032967032967034"
      ]
     },
     "execution_count": 30,
     "metadata": {},
     "output_type": "execute_result"
    }
   ],
   "source": [
    "# test accuracy score\n",
    "rf_best.score(X_val_df, y_val)"
   ]
  },
  {
   "cell_type": "markdown",
   "id": "d06f0aa5-e879-4115-a4bf-30845a579dfe",
   "metadata": {},
   "source": [
    "#### Calculating feature importance"
   ]
  },
  {
   "cell_type": "code",
   "execution_count": 31,
   "id": "bb193bec-bd2c-4ee1-a728-98f43a6f2c9e",
   "metadata": {},
   "outputs": [],
   "source": [
    "result = permutation_importance(rf_best, X_train_df, y_train, n_repeats=10, random_state=0)\n",
    "result_mean = result.importances_mean\n",
    "result_std = result.importances_std"
   ]
  },
  {
   "cell_type": "code",
   "execution_count": 164,
   "id": "d921b000-1476-4a4a-9a37-d007ae506e92",
   "metadata": {},
   "outputs": [
    {
     "data": {
      "image/png": "[encoded data removed]",
      "text/plain": [
       "<Figure size 432x288 with 1 Axes>"
      ]
     },
     "metadata": {},
     "output_type": "display_data"
    }
   ],
   "source": [
    "#visualize important features in this RF model\n",
    "features = X_train_df.columns\n",
    "\n",
    "feature_df = pd.DataFrame({'Importance': result_mean, 'Features': features })\n",
    "sns.set()\n",
    "plt.bar(feature_df['Features'], feature_df['Importance'], yerr=result_std)\n",
    "plt.xticks(rotation=45)\n",
    "plt.title('Random Forest Model Feature Importance')\n",
    "plt.show()"
   ]
  },
  {
   "cell_type": "markdown",
   "id": "d41a1a87-62b6-408e-ba70-42b679c91a4c",
   "metadata": {},
   "source": [
    "#### Prediction: prepare all data for user model fitting"
   ]
  },
  {
   "cell_type": "code",
   "execution_count": 220,
   "id": "195d1e41-10d9-4b44-9e36-991e4c1d83c8",
   "metadata": {
    "tags": []
   },
   "outputs": [],
   "source": [
    "#first, transform X & y data using the OHE & SS settings applied initially\n",
    "\n",
    "# pull out the continuous columns of X\n",
    "X_num_cols = list(X.select_dtypes('number').columns)\n",
    "\n",
    "# pull out the categorical columns of X\n",
    "X_cat_cols = list(X.select_dtypes('object').columns)\n",
    "\n",
    "# Instantiate StandardScaler\n",
    "new_scaler = StandardScaler()\n",
    "\n",
    "# fit on Imputed training data\n",
    "new_scaler.fit(X[X_num_cols])\n",
    "\n",
    "# transform all continuous X data\n",
    "X_scaled = pd.DataFrame(new_scaler.transform(X[X_num_cols]), columns=X_num_cols)\n",
    "\n",
    "# OHE categorical columns for X data\n",
    "X_encoded = ohe.transform(X[X_cat_cols])\n",
    "\n",
    "#convert categorical & continuous back to dataframe\n",
    "X_encoded_df = pd.DataFrame(X_encoded, columns=ohe.get_feature_names())\n",
    "X_scaled_df = pd.DataFrame(new_scaler.transform(X[X_num_cols]), columns=X_num_cols)\n",
    "\n",
    "#concatenate the two back together again X\n",
    "X_df = pd.concat([X_scaled_df, X_encoded_df], axis=1)\n",
    "\n",
    "#X_df.head()"
   ]
  },
  {
   "cell_type": "code",
   "execution_count": 221,
   "id": "57932e64-4f89-4670-bb61-a3b2f982fd72",
   "metadata": {},
   "outputs": [],
   "source": [
    "#drop 2 columns w/ no value: 'x0_F' & 'x0_H'\n",
    "X_df = X_df.drop(columns = ['x0_F', 'x0_H'], axis=1)\n",
    "#X_df"
   ]
  },
  {
   "cell_type": "code",
   "execution_count": 222,
   "id": "dfaee6b0-7ee3-44ee-ad77-f1422c053f2e",
   "metadata": {},
   "outputs": [
    {
     "data": {
      "text/plain": [
       "0.7443298969072165"
      ]
     },
     "execution_count": 222,
     "metadata": {},
     "output_type": "execute_result"
    }
   ],
   "source": [
    "#Next, fit the model on all available data\n",
    "rf_best = RandomForestClassifier(max_depth= 15, min_samples_leaf= 7, n_estimators= 100) \n",
    "rf_best.fit(X_df, y)\n",
    "\n",
    "# accuracy score full data\n",
    "rf_best.score(X_df, y)"
   ]
  },
  {
   "cell_type": "code",
   "execution_count": 223,
   "id": "1016f8fc-e70e-4f35-836d-f9b10e9becaa",
   "metadata": {},
   "outputs": [],
   "source": [
    "#X_df.head()"
   ]
  },
  {
   "cell_type": "code",
   "execution_count": 224,
   "id": "d3e532d4-0460-4a91-8d45-7b7758a4df5d",
   "metadata": {},
   "outputs": [],
   "source": [
    "# define one new input array (=user input) + default\n",
    "#values are based on fall freshman semester\n",
    "#First item is # units completed, 2nd item is semester gpa\n",
    "X_in = [[3, 3.5]]\n",
    "X_defaults = [[0,0,1,0]]"
   ]
  },
  {
   "cell_type": "code",
   "execution_count": 225,
   "id": "ef36344c-145e-43ba-bdd0-c11ff0cf3452",
   "metadata": {},
   "outputs": [],
   "source": [
    "#transform user input using scalers & encoders from above\n",
    "#pull out just 1st element in prep for scaling\n",
    "X_1 = [X_in[0][0:2]]\n",
    "\n",
    "X_1_scaled = pd.DataFrame(new_scaler.transform(X_1))"
   ]
  },
  {
   "cell_type": "code",
   "execution_count": 226,
   "id": "04bc927b-96c7-45b1-ab16-c5d611f7917d",
   "metadata": {},
   "outputs": [
    {
     "data": {
      "text/html": [
       "<div>\n",
       "<style scoped>\n",
       "    .dataframe tbody tr th:only-of-type {\n",
       "        vertical-align: middle;\n",
       "    }\n",
       "\n",
       "    .dataframe tbody tr th {\n",
       "        vertical-align: top;\n",
       "    }\n",
       "\n",
       "    .dataframe thead th {\n",
       "        text-align: right;\n",
       "    }\n",
       "</style>\n",
       "<table border=\"1\" class=\"dataframe\">\n",
       "  <thead>\n",
       "    <tr style=\"text-align: right;\">\n",
       "      <th></th>\n",
       "      <th>0</th>\n",
       "      <th>1</th>\n",
       "    </tr>\n",
       "  </thead>\n",
       "  <tbody>\n",
       "    <tr>\n",
       "      <th>0</th>\n",
       "      <td>-0.156118</td>\n",
       "      <td>0.600537</td>\n",
       "    </tr>\n",
       "  </tbody>\n",
       "</table>\n",
       "</div>"
      ],
      "text/plain": [
       "          0         1\n",
       "0 -0.156118  0.600537"
      ]
     },
     "execution_count": 226,
     "metadata": {},
     "output_type": "execute_result"
    }
   ],
   "source": [
    "X_1_scaled"
   ]
  },
  {
   "cell_type": "code",
   "execution_count": 227,
   "id": "cf975d3f-7d9f-450b-b6d9-292fc9f2fc97",
   "metadata": {},
   "outputs": [
    {
     "data": {
      "text/plain": [
       "array([[-0.15611786,  0.60053671,  0.        ,  0.        ,  1.        ,\n",
       "         0.        ]])"
      ]
     },
     "execution_count": 227,
     "metadata": {},
     "output_type": "execute_result"
    }
   ],
   "source": [
    "X_input = np.append(X_1_scaled, X_defaults, axis=1)\n",
    "X_input"
   ]
  },
  {
   "cell_type": "markdown",
   "id": "5282f0a3-8c89-48b3-8f2f-f2172b5822ae",
   "metadata": {},
   "source": [
    "##### Making prediction"
   ]
  },
  {
   "cell_type": "code",
   "execution_count": 228,
   "id": "9e29c65b-5398-4999-8a8c-ff8cfa15e9ee",
   "metadata": {},
   "outputs": [
    {
     "name": "stdout",
     "output_type": "stream",
     "text": [
      "Predicted=[[0.23716854 0.76283146]]\n"
     ]
    }
   ],
   "source": [
    "#make a prediction\n",
    "y_out = rf_best.predict_proba(X_input)\n",
    "print(\"Predicted=%s\" % (y_out))"
   ]
  },
  {
   "cell_type": "code",
   "execution_count": 229,
   "id": "8c223e75-c1cb-4271-b072-33138ba42768",
   "metadata": {},
   "outputs": [
    {
     "data": {
      "text/plain": [
       "0.763"
      ]
     },
     "execution_count": 229,
     "metadata": {},
     "output_type": "execute_result"
    }
   ],
   "source": [
    "y_out[0, 1].round(3)"
   ]
  },
  {
   "cell_type": "markdown",
   "id": "f3520bc2-5ba0-497d-8e87-096deabca081",
   "metadata": {},
   "source": [
    "#### function for deployment"
   ]
  },
  {
   "cell_type": "code",
   "execution_count": 242,
   "id": "459ee6e8-b9ef-4f09-a7a1-e344d8a07093",
   "metadata": {},
   "outputs": [],
   "source": [
    "#function for producing output\n",
    "#First item is # units completed, 2nd item is semester gpa\n",
    "inputs = []\n",
    "def get_grad(inputs):\n",
    "    X_defaults = [[0,0,1,0]]\n",
    "    \n",
    "    #scale user input\n",
    "    X_in = [inputs[0][0:2]]\n",
    "    X_1_scaled = pd.DataFrame(new_scaler.transform(X_in))\n",
    "    \n",
    "    #concatenate input + defaults\n",
    "    X_input = np.append(X_1_scaled, X_defaults, axis=1)\n",
    "    \n",
    "    #pass to model\n",
    "    rf_best = RandomForestClassifier(max_depth= 15, min_samples_leaf= 7, n_estimators= 100) \n",
    "    rf_best.fit(X_df, y)\n",
    "    \n",
    "    #make a prediction\n",
    "    y_out = rf_best.predict_proba(X_input)\n",
    "    print('Your chance of not graduating is {} \\n and the chance of graduating is {}'\n",
    "          .format(y_out[0, 0].round(3), y_out[0, 1].round(3)))\n",
    "    "
   ]
  },
  {
   "cell_type": "code",
   "execution_count": 243,
   "id": "d9134f62-d9b8-4c4b-ac6a-8e34ff783aba",
   "metadata": {},
   "outputs": [],
   "source": [
    "mylist = [3.25,3]"
   ]
  },
  {
   "cell_type": "code",
   "execution_count": 244,
   "id": "a419bdd3-d0e1-416b-a39a-5ad3991723ce",
   "metadata": {},
   "outputs": [
    {
     "name": "stdout",
     "output_type": "stream",
     "text": [
      "Your chance of not graduating is 0.414 \n",
      " and the chance of graduating is 0.586\n"
     ]
    }
   ],
   "source": [
    "get_grad([mylist])"
   ]
  },
  {
   "cell_type": "code",
   "execution_count": 235,
   "id": "280b483e-d039-4a97-81b0-d0ffd9945e15",
   "metadata": {},
   "outputs": [
    {
     "data": {
      "text/plain": [
       "<_io.BufferedWriter name='final_rf_model.sav'>"
      ]
     },
     "execution_count": 235,
     "metadata": {},
     "output_type": "execute_result"
    }
   ],
   "source": [
    "file"
   ]
  },
  {
   "cell_type": "code",
   "execution_count": 239,
   "id": "2edb062f-dd6e-4be9-9349-022378804edd",
   "metadata": {},
   "outputs": [],
   "source": [
    "# save the model to disk\n",
    "filename = 'final_rf_model.sav'\n",
    "file = open(filename, 'wb')\n",
    "pickle.dump(rf_best, file)\n",
    "file.close()"
   ]
  },
  {
   "cell_type": "code",
   "execution_count": 241,
   "id": "8e3f4070-dd08-415f-b2ec-071d592e8a1a",
   "metadata": {},
   "outputs": [],
   "source": [
    "# save the scaler to disk\n",
    "filename = 'scaler.sav'\n",
    "pickle.dump(new_scaler, open(filename, 'wb'))"
   ]
  },
  {
   "cell_type": "code",
   "execution_count": null,
   "id": "0c38d78c-824e-4438-be99-16729ad8ebee",
   "metadata": {},
   "outputs": [],
   "source": []
  }
 ],
 "metadata": {
  "kernelspec": {
   "display_name": "Python 3",
   "language": "python",
   "name": "python3"
  },
  "language_info": {
   "codemirror_mode": {
    "name": "ipython",
    "version": 3
   },
   "file_extension": ".py",
   "mimetype": "text/x-python",
   "name": "python",
   "nbconvert_exporter": "python",
   "pygments_lexer": "ipython3",
   "version": "3.8.8"
  }
 },
 "nbformat": 4,
 "nbformat_minor": 5
}
