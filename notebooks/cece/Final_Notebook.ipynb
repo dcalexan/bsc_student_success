{
 "cells": [
  {
   "cell_type": "code",
   "execution_count": 1,
   "metadata": {},
   "outputs": [
    {
     "name": "stdout",
     "output_type": "stream",
     "text": [
      "Requirement already satisfied: numpy==1.19.5 in /Users/clementinelacey/opt/anaconda3/envs/learn-env/lib/python3.8/site-packages (1.19.5)\r\n"
     ]
    }
   ],
   "source": [
    "import pandas as pd\n",
    "from sklearn.model_selection import train_test_split\n",
    "from sklearn.preprocessing import OneHotEncoder\n",
    "from numpy import asarray\n",
    "import numpy as np\n",
    "from tensorflow.keras.preprocessing.sequence import pad_sequences\n",
    "from tensorflow.keras.preprocessing.text import Tokenizer\n",
    "from tensorflow.keras import Sequential, Input\n",
    "from tensorflow.keras.layers import LSTM, Bidirectional, Dense\n",
    "from sklearn.preprocessing import LabelBinarizer\n",
    "from keras.utils.np_utils import to_categorical\n",
    "%config Completer.use_jedi = False\n",
    "import matplotlib.pyplot as plt\n",
    "from tensorflow.keras import layers, Model, utils\n",
    "!pip install numpy==1.19.5"
   ]
  },
  {
   "cell_type": "code",
   "execution_count": 2,
   "metadata": {},
   "outputs": [
    {
     "name": "stderr",
     "output_type": "stream",
     "text": [
      "/Users/clementinelacey/opt/anaconda3/envs/learn-env/lib/python3.8/site-packages/IPython/core/interactiveshell.py:3145: DtypeWarning: Columns (18,20,21,23,24,26,27,29,31,33) have mixed types.Specify dtype option on import or set low_memory=False.\n",
      "  has_raised = await self.run_ast_nodes(code_ast.body, cell_name,\n"
     ]
    }
   ],
   "source": [
    "df = pd.read_csv('../../data/anonymized_bsc_dataPVZ.csv')"
   ]
  },
  {
   "cell_type": "code",
   "execution_count": 3,
   "metadata": {},
   "outputs": [
    {
     "data": {
      "text/html": [
       "<div>\n",
       "<style scoped>\n",
       "    .dataframe tbody tr th:only-of-type {\n",
       "        vertical-align: middle;\n",
       "    }\n",
       "\n",
       "    .dataframe tbody tr th {\n",
       "        vertical-align: top;\n",
       "    }\n",
       "\n",
       "    .dataframe thead th {\n",
       "        text-align: right;\n",
       "    }\n",
       "</style>\n",
       "<table border=\"1\" class=\"dataframe\">\n",
       "  <thead>\n",
       "    <tr style=\"text-align: right;\">\n",
       "      <th></th>\n",
       "      <th>Sttr Term</th>\n",
       "      <th>course_#</th>\n",
       "      <th>course_title</th>\n",
       "      <th>Sttr Student Load</th>\n",
       "      <th>Sttr Stu Credits</th>\n",
       "      <th>Sttr Attempted Cred</th>\n",
       "      <th>Sttr Stu Final Grades</th>\n",
       "      <th>Sttr Cmpl Cred</th>\n",
       "      <th>Sttr Term Gpa</th>\n",
       "      <th>faculty</th>\n",
       "      <th>...</th>\n",
       "      <th>FA5 Enr</th>\n",
       "      <th>FA5 Class</th>\n",
       "      <th>FA5 Major</th>\n",
       "      <th>FA6 Enr</th>\n",
       "      <th>FA6 Class</th>\n",
       "      <th>FA6 Major</th>\n",
       "      <th>Graduated</th>\n",
       "      <th>Grad Term</th>\n",
       "      <th>Grad Year</th>\n",
       "      <th>Grad Major</th>\n",
       "    </tr>\n",
       "  </thead>\n",
       "  <tbody>\n",
       "    <tr>\n",
       "      <th>0</th>\n",
       "      <td>15/SP</td>\n",
       "      <td>DA 101 A</td>\n",
       "      <td>Basic Ballet</td>\n",
       "      <td>F</td>\n",
       "      <td>0.5</td>\n",
       "      <td>3.0</td>\n",
       "      <td>W</td>\n",
       "      <td>3.0</td>\n",
       "      <td>3.667</td>\n",
       "      <td>Melissa Turnage</td>\n",
       "      <td>...</td>\n",
       "      <td>NaN</td>\n",
       "      <td>NaN</td>\n",
       "      <td>NaN</td>\n",
       "      <td>NaN</td>\n",
       "      <td>NaN</td>\n",
       "      <td>NaN</td>\n",
       "      <td>Y</td>\n",
       "      <td>18/SP</td>\n",
       "      <td>1718.0</td>\n",
       "      <td>Psychology</td>\n",
       "    </tr>\n",
       "    <tr>\n",
       "      <th>1</th>\n",
       "      <td>15/SP</td>\n",
       "      <td>HI 155 A-ES</td>\n",
       "      <td>Reforming America</td>\n",
       "      <td>F</td>\n",
       "      <td>1.0</td>\n",
       "      <td>NaN</td>\n",
       "      <td>A-</td>\n",
       "      <td>3.0</td>\n",
       "      <td>3.667</td>\n",
       "      <td>Victoria Ott</td>\n",
       "      <td>...</td>\n",
       "      <td>NaN</td>\n",
       "      <td>NaN</td>\n",
       "      <td>NaN</td>\n",
       "      <td>NaN</td>\n",
       "      <td>NaN</td>\n",
       "      <td>NaN</td>\n",
       "      <td>Y</td>\n",
       "      <td>18/SP</td>\n",
       "      <td>1718.0</td>\n",
       "      <td>Psychology</td>\n",
       "    </tr>\n",
       "    <tr>\n",
       "      <th>2</th>\n",
       "      <td>15/SP</td>\n",
       "      <td>PL 200 A-CI</td>\n",
       "      <td>Ethical Choice</td>\n",
       "      <td>F</td>\n",
       "      <td>1.0</td>\n",
       "      <td>NaN</td>\n",
       "      <td>B+</td>\n",
       "      <td>3.0</td>\n",
       "      <td>3.667</td>\n",
       "      <td>William Myers</td>\n",
       "      <td>...</td>\n",
       "      <td>NaN</td>\n",
       "      <td>NaN</td>\n",
       "      <td>NaN</td>\n",
       "      <td>NaN</td>\n",
       "      <td>NaN</td>\n",
       "      <td>NaN</td>\n",
       "      <td>Y</td>\n",
       "      <td>18/SP</td>\n",
       "      <td>1718.0</td>\n",
       "      <td>Psychology</td>\n",
       "    </tr>\n",
       "    <tr>\n",
       "      <th>3</th>\n",
       "      <td>15/SP</td>\n",
       "      <td>IDS 200 A-CI</td>\n",
       "      <td>Intro to Human Rights (GP)</td>\n",
       "      <td>F</td>\n",
       "      <td>1.0</td>\n",
       "      <td>NaN</td>\n",
       "      <td>A</td>\n",
       "      <td>3.0</td>\n",
       "      <td>3.667</td>\n",
       "      <td>Sandra Sprayberry</td>\n",
       "      <td>...</td>\n",
       "      <td>NaN</td>\n",
       "      <td>NaN</td>\n",
       "      <td>NaN</td>\n",
       "      <td>NaN</td>\n",
       "      <td>NaN</td>\n",
       "      <td>NaN</td>\n",
       "      <td>Y</td>\n",
       "      <td>18/SP</td>\n",
       "      <td>1718.0</td>\n",
       "      <td>Psychology</td>\n",
       "    </tr>\n",
       "    <tr>\n",
       "      <th>4</th>\n",
       "      <td>15/WI</td>\n",
       "      <td>GEN E299 49</td>\n",
       "      <td>Exploration Project</td>\n",
       "      <td>F</td>\n",
       "      <td>1.0</td>\n",
       "      <td>1.0</td>\n",
       "      <td>S</td>\n",
       "      <td>1.0</td>\n",
       "      <td>0.000</td>\n",
       "      <td>Vincent Gawronski</td>\n",
       "      <td>...</td>\n",
       "      <td>NaN</td>\n",
       "      <td>NaN</td>\n",
       "      <td>NaN</td>\n",
       "      <td>NaN</td>\n",
       "      <td>NaN</td>\n",
       "      <td>NaN</td>\n",
       "      <td>Y</td>\n",
       "      <td>18/SP</td>\n",
       "      <td>1718.0</td>\n",
       "      <td>Psychology</td>\n",
       "    </tr>\n",
       "  </tbody>\n",
       "</table>\n",
       "<p>5 rows × 34 columns</p>\n",
       "</div>"
      ],
      "text/plain": [
       "  Sttr Term      course_#                course_title Sttr Student Load  \\\n",
       "0     15/SP      DA 101 A                Basic Ballet                 F   \n",
       "1     15/SP   HI 155 A-ES           Reforming America                 F   \n",
       "2     15/SP   PL 200 A-CI              Ethical Choice                 F   \n",
       "3     15/SP  IDS 200 A-CI  Intro to Human Rights (GP)                 F   \n",
       "4     15/WI   GEN E299 49         Exploration Project                 F   \n",
       "\n",
       "   Sttr Stu Credits  Sttr Attempted Cred Sttr Stu Final Grades  \\\n",
       "0               0.5                  3.0                     W   \n",
       "1               1.0                  NaN                    A-   \n",
       "2               1.0                  NaN                    B+   \n",
       "3               1.0                  NaN                     A   \n",
       "4               1.0                  1.0                     S   \n",
       "\n",
       "   Sttr Cmpl Cred  Sttr Term Gpa            faculty  ...  FA5 Enr FA5 Class  \\\n",
       "0             3.0          3.667    Melissa Turnage  ...      NaN       NaN   \n",
       "1             3.0          3.667       Victoria Ott  ...      NaN       NaN   \n",
       "2             3.0          3.667      William Myers  ...      NaN       NaN   \n",
       "3             3.0          3.667  Sandra Sprayberry  ...      NaN       NaN   \n",
       "4             1.0          0.000  Vincent Gawronski  ...      NaN       NaN   \n",
       "\n",
       "  FA5 Major  FA6 Enr FA6 Class FA6 Major  Graduated Grad Term Grad Year  \\\n",
       "0       NaN      NaN       NaN       NaN          Y     18/SP    1718.0   \n",
       "1       NaN      NaN       NaN       NaN          Y     18/SP    1718.0   \n",
       "2       NaN      NaN       NaN       NaN          Y     18/SP    1718.0   \n",
       "3       NaN      NaN       NaN       NaN          Y     18/SP    1718.0   \n",
       "4       NaN      NaN       NaN       NaN          Y     18/SP    1718.0   \n",
       "\n",
       "   Grad Major  \n",
       "0  Psychology  \n",
       "1  Psychology  \n",
       "2  Psychology  \n",
       "3  Psychology  \n",
       "4  Psychology  \n",
       "\n",
       "[5 rows x 34 columns]"
      ]
     },
     "execution_count": 3,
     "metadata": {},
     "output_type": "execute_result"
    }
   ],
   "source": [
    "df.head()"
   ]
  },
  {
   "cell_type": "markdown",
   "metadata": {},
   "source": [
    "# Preprocessing"
   ]
  },
  {
   "cell_type": "code",
   "execution_count": 4,
   "metadata": {},
   "outputs": [
    {
     "data": {
      "text/html": [
       "<div>\n",
       "<style scoped>\n",
       "    .dataframe tbody tr th:only-of-type {\n",
       "        vertical-align: middle;\n",
       "    }\n",
       "\n",
       "    .dataframe tbody tr th {\n",
       "        vertical-align: top;\n",
       "    }\n",
       "\n",
       "    .dataframe thead th {\n",
       "        text-align: right;\n",
       "    }\n",
       "</style>\n",
       "<table border=\"1\" class=\"dataframe\">\n",
       "  <thead>\n",
       "    <tr style=\"text-align: right;\">\n",
       "      <th></th>\n",
       "      <th>Sttr Term</th>\n",
       "      <th>course_#</th>\n",
       "      <th>course_title</th>\n",
       "      <th>Sttr Student Load</th>\n",
       "      <th>Sttr Stu Credits</th>\n",
       "      <th>Sttr Attempted Cred</th>\n",
       "      <th>Sttr Stu Final Grades</th>\n",
       "      <th>Sttr Cmpl Cred</th>\n",
       "      <th>Sttr Term Gpa</th>\n",
       "      <th>faculty</th>\n",
       "      <th>...</th>\n",
       "      <th>FA5 Enr</th>\n",
       "      <th>FA5 Class</th>\n",
       "      <th>FA5 Major</th>\n",
       "      <th>FA6 Enr</th>\n",
       "      <th>FA6 Class</th>\n",
       "      <th>FA6 Major</th>\n",
       "      <th>Graduated</th>\n",
       "      <th>Grad Term</th>\n",
       "      <th>Grad Year</th>\n",
       "      <th>Grad Major</th>\n",
       "    </tr>\n",
       "  </thead>\n",
       "  <tbody>\n",
       "    <tr>\n",
       "      <th>6784</th>\n",
       "      <td>14/D</td>\n",
       "      <td>EH 208 B</td>\n",
       "      <td>Intermediate Writing</td>\n",
       "      <td>F</td>\n",
       "      <td>1.00</td>\n",
       "      <td>NaN</td>\n",
       "      <td>F</td>\n",
       "      <td>1.00</td>\n",
       "      <td>1.110</td>\n",
       "      <td>Sandra Sprayberry</td>\n",
       "      <td>...</td>\n",
       "      <td>NaN</td>\n",
       "      <td>NaN</td>\n",
       "      <td>NaN</td>\n",
       "      <td>NaN</td>\n",
       "      <td>NaN</td>\n",
       "      <td>NaN</td>\n",
       "      <td>1</td>\n",
       "      <td>18/SP</td>\n",
       "      <td>1718.0</td>\n",
       "      <td>Urban Environmental Studies</td>\n",
       "    </tr>\n",
       "    <tr>\n",
       "      <th>7369</th>\n",
       "      <td>14/D</td>\n",
       "      <td>BI 115 A-SM</td>\n",
       "      <td>Organismal Biology</td>\n",
       "      <td>F</td>\n",
       "      <td>1.00</td>\n",
       "      <td>3.0</td>\n",
       "      <td>F</td>\n",
       "      <td>1.00</td>\n",
       "      <td>0.557</td>\n",
       "      <td>Andrew Gannon</td>\n",
       "      <td>...</td>\n",
       "      <td>NaN</td>\n",
       "      <td>NaN</td>\n",
       "      <td>NaN</td>\n",
       "      <td>NaN</td>\n",
       "      <td>NaN</td>\n",
       "      <td>NaN</td>\n",
       "      <td>0</td>\n",
       "      <td>NaN</td>\n",
       "      <td>NaN</td>\n",
       "      <td>NaN</td>\n",
       "    </tr>\n",
       "    <tr>\n",
       "      <th>7370</th>\n",
       "      <td>14/D</td>\n",
       "      <td>PY 101 F</td>\n",
       "      <td>Introduction to Psychology</td>\n",
       "      <td>F</td>\n",
       "      <td>1.00</td>\n",
       "      <td>NaN</td>\n",
       "      <td>C-</td>\n",
       "      <td>1.00</td>\n",
       "      <td>0.557</td>\n",
       "      <td>Gabrielle Smith</td>\n",
       "      <td>...</td>\n",
       "      <td>NaN</td>\n",
       "      <td>NaN</td>\n",
       "      <td>NaN</td>\n",
       "      <td>NaN</td>\n",
       "      <td>NaN</td>\n",
       "      <td>NaN</td>\n",
       "      <td>0</td>\n",
       "      <td>NaN</td>\n",
       "      <td>NaN</td>\n",
       "      <td>NaN</td>\n",
       "    </tr>\n",
       "    <tr>\n",
       "      <th>7371</th>\n",
       "      <td>14/D</td>\n",
       "      <td>EH 102 C</td>\n",
       "      <td>Sem Critical Thinking Writing</td>\n",
       "      <td>F</td>\n",
       "      <td>1.00</td>\n",
       "      <td>NaN</td>\n",
       "      <td>F</td>\n",
       "      <td>1.00</td>\n",
       "      <td>0.557</td>\n",
       "      <td>Steven Carter</td>\n",
       "      <td>...</td>\n",
       "      <td>NaN</td>\n",
       "      <td>NaN</td>\n",
       "      <td>NaN</td>\n",
       "      <td>NaN</td>\n",
       "      <td>NaN</td>\n",
       "      <td>NaN</td>\n",
       "      <td>0</td>\n",
       "      <td>NaN</td>\n",
       "      <td>NaN</td>\n",
       "      <td>NaN</td>\n",
       "    </tr>\n",
       "    <tr>\n",
       "      <th>1114</th>\n",
       "      <td>14/D</td>\n",
       "      <td>MS 120 D</td>\n",
       "      <td>Voice</td>\n",
       "      <td>F</td>\n",
       "      <td>0.25</td>\n",
       "      <td>NaN</td>\n",
       "      <td>A</td>\n",
       "      <td>3.25</td>\n",
       "      <td>3.591</td>\n",
       "      <td>Erin Ludwick</td>\n",
       "      <td>...</td>\n",
       "      <td>NaN</td>\n",
       "      <td>NaN</td>\n",
       "      <td>NaN</td>\n",
       "      <td>NaN</td>\n",
       "      <td>NaN</td>\n",
       "      <td>NaN</td>\n",
       "      <td>1</td>\n",
       "      <td>18/SP</td>\n",
       "      <td>1718.0</td>\n",
       "      <td>Biology</td>\n",
       "    </tr>\n",
       "  </tbody>\n",
       "</table>\n",
       "<p>5 rows × 34 columns</p>\n",
       "</div>"
      ],
      "text/plain": [
       "     Sttr Term     course_#                   course_title Sttr Student Load  \\\n",
       "6784      14/D     EH 208 B           Intermediate Writing                 F   \n",
       "7369      14/D  BI 115 A-SM             Organismal Biology                 F   \n",
       "7370      14/D     PY 101 F     Introduction to Psychology                 F   \n",
       "7371      14/D     EH 102 C  Sem Critical Thinking Writing                 F   \n",
       "1114      14/D     MS 120 D                          Voice                 F   \n",
       "\n",
       "      Sttr Stu Credits  Sttr Attempted Cred Sttr Stu Final Grades  \\\n",
       "6784              1.00                  NaN                     F   \n",
       "7369              1.00                  3.0                     F   \n",
       "7370              1.00                  NaN                    C-   \n",
       "7371              1.00                  NaN                     F   \n",
       "1114              0.25                  NaN                     A   \n",
       "\n",
       "      Sttr Cmpl Cred  Sttr Term Gpa            faculty  ...  FA5 Enr  \\\n",
       "6784            1.00          1.110  Sandra Sprayberry  ...      NaN   \n",
       "7369            1.00          0.557      Andrew Gannon  ...      NaN   \n",
       "7370            1.00          0.557    Gabrielle Smith  ...      NaN   \n",
       "7371            1.00          0.557      Steven Carter  ...      NaN   \n",
       "1114            3.25          3.591       Erin Ludwick  ...      NaN   \n",
       "\n",
       "     FA5 Class FA5 Major  FA6 Enr FA6 Class FA6 Major  Graduated Grad Term  \\\n",
       "6784       NaN       NaN      NaN       NaN       NaN          1     18/SP   \n",
       "7369       NaN       NaN      NaN       NaN       NaN          0       NaN   \n",
       "7370       NaN       NaN      NaN       NaN       NaN          0       NaN   \n",
       "7371       NaN       NaN      NaN       NaN       NaN          0       NaN   \n",
       "1114       NaN       NaN      NaN       NaN       NaN          1     18/SP   \n",
       "\n",
       "     Grad Year                   Grad Major  \n",
       "6784    1718.0  Urban Environmental Studies  \n",
       "7369       NaN                          NaN  \n",
       "7370       NaN                          NaN  \n",
       "7371       NaN                          NaN  \n",
       "1114    1718.0                      Biology  \n",
       "\n",
       "[5 rows x 34 columns]"
      ]
     },
     "execution_count": 4,
     "metadata": {},
     "output_type": "execute_result"
    }
   ],
   "source": [
    "#changing nomenclature for term so that we can sort in chronological order by that column\n",
    "df['Sttr Term'] = df['Sttr Term'].replace({'WI':'A','SP':'B', 'SU':'C', 'FA':'D'}, regex=True)\n",
    "#dropping completely null rows\n",
    "df.drop(df.index[51518:51537], inplace=True)\n",
    "#isolating students who would have been able to graduate in the timeframe of our given data\n",
    "df = df.loc[(df['Cohort'] == '14/FA') | (df['Cohort'] == '15/FA') | (df['Cohort'] == '16/FA')\n",
    "              | (df['Cohort'] == '17/FA')]\n",
    "df = df.dropna(subset=['Sttr Term'])\n",
    "df['alt_id'] = df['alt_id'].astype(int)\n",
    "#encoding our target\n",
    "mapping = {'N': 0, 'Y': 1}\n",
    "df['Graduated'] = df['Graduated'].map(mapping)\n",
    "data = df.sort_values(['Sttr Term'], ascending=True)\n",
    "data.head()"
   ]
  },
  {
   "cell_type": "markdown",
   "metadata": {},
   "source": [
    "# EDA"
   ]
  },
  {
   "cell_type": "code",
   "execution_count": 5,
   "metadata": {},
   "outputs": [
    {
     "data": {
      "text/plain": [
       "1139    64\n",
       "1469    62\n",
       "2046    62\n",
       "1002    62\n",
       "2328    60\n",
       "        ..\n",
       "2030     3\n",
       "2516     3\n",
       "1732     3\n",
       "1191     3\n",
       "1857     3\n",
       "Name: alt_id, Length: 1455, dtype: int64"
      ]
     },
     "execution_count": 5,
     "metadata": {},
     "output_type": "execute_result"
    }
   ],
   "source": [
    "#investigating how many classes students are taking to find outliers\n",
    "df.alt_id.value_counts(ascending=False)"
   ]
  },
  {
   "cell_type": "code",
   "execution_count": 6,
   "metadata": {},
   "outputs": [
    {
     "data": {
      "text/plain": [
       "952"
      ]
     },
     "execution_count": 6,
     "metadata": {},
     "output_type": "execute_result"
    }
   ],
   "source": [
    "#Checking for Course Title Duplicates\n",
    "df['course_title'].nunique()"
   ]
  },
  {
   "cell_type": "markdown",
   "metadata": {},
   "source": [
    "# Modeling"
   ]
  },
  {
   "cell_type": "markdown",
   "metadata": {},
   "source": [
    "## Course Sequential Model"
   ]
  },
  {
   "cell_type": "code",
   "execution_count": 7,
   "metadata": {},
   "outputs": [],
   "source": [
    "#target = []\n",
    "#student_ids = df.alt_id.unique()\n",
    "#for s_id in student_ids:\n",
    " #   grad = df[df['alt_id'] == s_id].iloc[0].Graduated\n",
    "  #  target.append(grad)"
   ]
  },
  {
   "cell_type": "code",
   "execution_count": 29,
   "metadata": {},
   "outputs": [],
   "source": [
    "#Baseline Course Sequence\n",
    "def course_modeling(df, N, E):\n",
    "    target = []\n",
    "    course_sequences = []\n",
    "    student_ids = df.alt_id.unique()\n",
    "    for s_id in student_ids:\n",
    "        grad = df[df['alt_id'] == s_id].iloc[0].Graduated\n",
    "        target.append(grad)\n",
    "    for s_id in student_ids:\n",
    "        frame = df[df['alt_id'] == s_id]\n",
    "        course_ids = ' '.join(frame.course_title.str.replace(' ', '').to_list())\n",
    "        course_sequences.append(course_ids)\n",
    "        \n",
    "    tokenizer = Tokenizer()\n",
    "    tokenizer.fit_on_texts(course_sequences)\n",
    "    #Tozenizing course sequences to prepare for model\n",
    "    encoded_sequences = tokenizer.texts_to_sequences(course_sequences)\n",
    "    #Accounting for students with many more courses\n",
    "    padded_course_sequences = pad_sequences(encoded_sequences, maxlen=N, dtype='int32', padding='post',\n",
    "    truncating='post', value=0.0)\n",
    "    padded_reshaped_courses = padded_course_sequences.reshape(1455, N, 1)\n",
    "\n",
    "    model = Sequential()\n",
    "    input_layer = Input(shape=(N, 1))\n",
    "    sequential_1 = LSTM(64, activation='relu')\n",
    "    output_layer = Dense(1, activation='sigmoid')\n",
    "\n",
    "    model.add(input_layer)\n",
    "    model.add(sequential_1)\n",
    "    model.add(output_layer)\n",
    "\n",
    "    model.compile(optimizer='adam', loss='binary_crossentropy', metrics = ['accuracy'])\n",
    "    model.fit(padded_reshaped_courses, np.array(target), epochs=E, validation_split = .2)\n",
    "    \n",
    "     #plot\n",
    "    fig, (ax1,ax2) = plt.subplots(1,2)\n",
    "\n",
    "    ax1.plot(model.history.epoch, model.history.history['loss'], label='Train')\n",
    "    ax1.plot(model.history.epoch, model.history.history['val_loss'], label='Validation')\n",
    "    \n",
    "    ax1.legend()\n",
    "    \n",
    "    ax2.plot(model.history.epoch, model.history.history['accuracy'], label='Train')\n",
    "    ax2.plot(model.history.epoch, model.history.history['val_accuracy'], label='Validation')\n",
    "    \n",
    "    ax2.legend()"
   ]
  },
  {
   "cell_type": "markdown",
   "metadata": {},
   "source": [
    "### Baseline - Full Course Sequence"
   ]
  },
  {
   "cell_type": "code",
   "execution_count": 30,
   "metadata": {
    "scrolled": true
   },
   "outputs": [
    {
     "name": "stdout",
     "output_type": "stream",
     "text": [
      "Epoch 1/10\n",
      "37/37 [==============================] - 1s 19ms/step - loss: 272.3036 - accuracy: 0.3419 - val_loss: 240.1660 - val_accuracy: 0.4880\n",
      "Epoch 2/10\n",
      "37/37 [==============================] - 1s 14ms/step - loss: 567.6304 - accuracy: 0.5567 - val_loss: 1215.5796 - val_accuracy: 0.5052\n",
      "Epoch 3/10\n",
      "37/37 [==============================] - 0s 12ms/step - loss: 1629.9021 - accuracy: 0.4871 - val_loss: 384.2589 - val_accuracy: 0.3952\n",
      "Epoch 4/10\n",
      "37/37 [==============================] - 0s 12ms/step - loss: 269.8215 - accuracy: 0.4381 - val_loss: 104.0456 - val_accuracy: 0.5704\n",
      "Epoch 5/10\n",
      "37/37 [==============================] - 0s 12ms/step - loss: 86.9581 - accuracy: 0.5842 - val_loss: 120.0275 - val_accuracy: 0.5326\n",
      "Epoch 6/10\n",
      "37/37 [==============================] - 0s 12ms/step - loss: 114.4770 - accuracy: 0.5816 - val_loss: 72.8092 - val_accuracy: 0.5361\n",
      "Epoch 7/10\n",
      "37/37 [==============================] - 0s 12ms/step - loss: 105.9115 - accuracy: 0.4424 - val_loss: 95.4736 - val_accuracy: 0.5361\n",
      "Epoch 8/10\n",
      "37/37 [==============================] - 0s 12ms/step - loss: 76.3810 - accuracy: 0.5902 - val_loss: 74.0228 - val_accuracy: 0.5533\n",
      "Epoch 9/10\n",
      "37/37 [==============================] - 0s 12ms/step - loss: 64.5650 - accuracy: 0.6297 - val_loss: 68.1774 - val_accuracy: 0.5430\n",
      "Epoch 10/10\n",
      "37/37 [==============================] - 0s 12ms/step - loss: 56.7424 - accuracy: 0.6091 - val_loss: 50.4638 - val_accuracy: 0.5292\n"
     ]
    },
    {
     "data": {
      "image/png": "[encoded data removed]",
      "text/plain": [
       "<Figure size 432x288 with 2 Axes>"
      ]
     },
     "metadata": {
      "needs_background": "light"
     },
     "output_type": "display_data"
    }
   ],
   "source": [
    "#Full Term\n",
    "fullcoursemodel = course_modeling(data,45,10)"
   ]
  },
  {
   "cell_type": "markdown",
   "metadata": {},
   "source": [
    "### First Semester Freshman Year"
   ]
  },
  {
   "cell_type": "code",
   "execution_count": 31,
   "metadata": {
    "scrolled": true
   },
   "outputs": [
    {
     "name": "stdout",
     "output_type": "stream",
     "text": [
      "Epoch 1/20\n",
      "37/37 [==============================] - 0s 7ms/step - loss: 1.2292 - accuracy: 0.5971 - val_loss: 0.8822 - val_accuracy: 0.4983\n",
      "Epoch 2/20\n",
      "37/37 [==============================] - 0s 3ms/step - loss: 0.7630 - accuracy: 0.6280 - val_loss: 0.7745 - val_accuracy: 0.5258\n",
      "Epoch 3/20\n",
      "37/37 [==============================] - 0s 3ms/step - loss: 0.6644 - accuracy: 0.6409 - val_loss: 0.7876 - val_accuracy: 0.5155\n",
      "Epoch 4/20\n",
      "37/37 [==============================] - 0s 3ms/step - loss: 0.6575 - accuracy: 0.6607 - val_loss: 0.7486 - val_accuracy: 0.5464\n",
      "Epoch 5/20\n",
      "37/37 [==============================] - 0s 3ms/step - loss: 0.6204 - accuracy: 0.6675 - val_loss: 0.7634 - val_accuracy: 0.5739\n",
      "Epoch 6/20\n",
      "37/37 [==============================] - 0s 3ms/step - loss: 0.6288 - accuracy: 0.6641 - val_loss: 0.7887 - val_accuracy: 0.5704\n",
      "Epoch 7/20\n",
      "37/37 [==============================] - 0s 2ms/step - loss: 0.6241 - accuracy: 0.6701 - val_loss: 0.7621 - val_accuracy: 0.5533\n",
      "Epoch 8/20\n",
      "37/37 [==============================] - 0s 3ms/step - loss: 0.6156 - accuracy: 0.6701 - val_loss: 0.7645 - val_accuracy: 0.5533\n",
      "Epoch 9/20\n",
      "37/37 [==============================] - 0s 3ms/step - loss: 0.6134 - accuracy: 0.6753 - val_loss: 0.7723 - val_accuracy: 0.5842\n",
      "Epoch 10/20\n",
      "37/37 [==============================] - 0s 3ms/step - loss: 0.6098 - accuracy: 0.6821 - val_loss: 0.7510 - val_accuracy: 0.5773\n",
      "Epoch 11/20\n",
      "37/37 [==============================] - 0s 3ms/step - loss: 0.6013 - accuracy: 0.6856 - val_loss: 0.8398 - val_accuracy: 0.5773\n",
      "Epoch 12/20\n",
      "37/37 [==============================] - 0s 2ms/step - loss: 0.5911 - accuracy: 0.6830 - val_loss: 0.7590 - val_accuracy: 0.5601\n",
      "Epoch 13/20\n",
      "37/37 [==============================] - 0s 3ms/step - loss: 0.5895 - accuracy: 0.6899 - val_loss: 0.8081 - val_accuracy: 0.5911\n",
      "Epoch 14/20\n",
      "37/37 [==============================] - 0s 3ms/step - loss: 0.5983 - accuracy: 0.6735 - val_loss: 0.7521 - val_accuracy: 0.5945\n",
      "Epoch 15/20\n",
      "37/37 [==============================] - 0s 2ms/step - loss: 0.5993 - accuracy: 0.6838 - val_loss: 0.8232 - val_accuracy: 0.6014\n",
      "Epoch 16/20\n",
      "37/37 [==============================] - 0s 2ms/step - loss: 0.5920 - accuracy: 0.6907 - val_loss: 0.7506 - val_accuracy: 0.5842\n",
      "Epoch 17/20\n",
      "37/37 [==============================] - 0s 2ms/step - loss: 0.6219 - accuracy: 0.6778 - val_loss: 0.8682 - val_accuracy: 0.5739\n",
      "Epoch 18/20\n",
      "37/37 [==============================] - 0s 3ms/step - loss: 0.6100 - accuracy: 0.6796 - val_loss: 0.7391 - val_accuracy: 0.5945\n",
      "Epoch 19/20\n",
      "37/37 [==============================] - 0s 2ms/step - loss: 0.5801 - accuracy: 0.6864 - val_loss: 0.7248 - val_accuracy: 0.5876\n",
      "Epoch 20/20\n",
      "37/37 [==============================] - 0s 3ms/step - loss: 0.5710 - accuracy: 0.6907 - val_loss: 0.7673 - val_accuracy: 0.5842\n"
     ]
    },
    {
     "data": {
      "image/png": "[encoded data removed]",
      "text/plain": [
       "<Figure size 432x288 with 2 Axes>"
      ]
     },
     "metadata": {
      "needs_background": "light"
     },
     "output_type": "display_data"
    }
   ],
   "source": [
    "#First Semester Freshman\n",
    "course_modeling(data,4,20)"
   ]
  },
  {
   "cell_type": "markdown",
   "metadata": {},
   "source": [
    "### After Sophomore Year"
   ]
  },
  {
   "cell_type": "code",
   "execution_count": 32,
   "metadata": {},
   "outputs": [
    {
     "name": "stdout",
     "output_type": "stream",
     "text": [
      "Epoch 1/15\n",
      "37/37 [==============================] - 0s 10ms/step - loss: 1.9420 - accuracy: 0.7105 - val_loss: 1.6227 - val_accuracy: 0.7251\n",
      "Epoch 2/15\n",
      "37/37 [==============================] - 0s 5ms/step - loss: 0.9061 - accuracy: 0.7947 - val_loss: 0.9087 - val_accuracy: 0.7045\n",
      "Epoch 3/15\n",
      "37/37 [==============================] - 0s 5ms/step - loss: 0.6642 - accuracy: 0.8093 - val_loss: 0.9012 - val_accuracy: 0.7354\n",
      "Epoch 4/15\n",
      "37/37 [==============================] - 0s 5ms/step - loss: 0.5496 - accuracy: 0.8299 - val_loss: 0.7410 - val_accuracy: 0.7560\n",
      "Epoch 5/15\n",
      "37/37 [==============================] - 0s 5ms/step - loss: 0.4785 - accuracy: 0.8385 - val_loss: 0.8421 - val_accuracy: 0.7663\n",
      "Epoch 6/15\n",
      "37/37 [==============================] - 0s 5ms/step - loss: 0.4826 - accuracy: 0.8402 - val_loss: 0.7896 - val_accuracy: 0.7388\n",
      "Epoch 7/15\n",
      "37/37 [==============================] - 0s 5ms/step - loss: 0.4518 - accuracy: 0.8436 - val_loss: 0.6510 - val_accuracy: 0.7595\n",
      "Epoch 8/15\n",
      "37/37 [==============================] - 0s 6ms/step - loss: 0.4170 - accuracy: 0.8471 - val_loss: 0.5750 - val_accuracy: 0.7457\n",
      "Epoch 9/15\n",
      "37/37 [==============================] - 0s 5ms/step - loss: 0.3785 - accuracy: 0.8557 - val_loss: 0.6314 - val_accuracy: 0.7766\n",
      "Epoch 10/15\n",
      "37/37 [==============================] - 0s 5ms/step - loss: 0.3962 - accuracy: 0.8574 - val_loss: 0.7203 - val_accuracy: 0.7629\n",
      "Epoch 11/15\n",
      "37/37 [==============================] - 0s 6ms/step - loss: 0.4783 - accuracy: 0.8282 - val_loss: 0.5944 - val_accuracy: 0.7457\n",
      "Epoch 12/15\n",
      "37/37 [==============================] - 0s 5ms/step - loss: 0.4328 - accuracy: 0.8342 - val_loss: 0.6194 - val_accuracy: 0.7698\n",
      "Epoch 13/15\n",
      "37/37 [==============================] - 0s 5ms/step - loss: 0.3737 - accuracy: 0.8497 - val_loss: 0.5626 - val_accuracy: 0.7766\n",
      "Epoch 14/15\n",
      "37/37 [==============================] - 0s 5ms/step - loss: 0.3639 - accuracy: 0.8582 - val_loss: 0.5712 - val_accuracy: 0.7904\n",
      "Epoch 15/15\n",
      "37/37 [==============================] - 0s 6ms/step - loss: 0.3385 - accuracy: 0.8668 - val_loss: 0.6051 - val_accuracy: 0.7869\n"
     ]
    },
    {
     "data": {
      "image/png": "[encoded data removed]",
      "text/plain": [
       "<Figure size 432x288 with 2 Axes>"
      ]
     },
     "metadata": {
      "needs_background": "light"
     },
     "output_type": "display_data"
    }
   ],
   "source": [
    "#Sophomore\n",
    "course_modeling(data,16,15)"
   ]
  },
  {
   "cell_type": "markdown",
   "metadata": {},
   "source": [
    "## Baseline Sequential Grades Model"
   ]
  },
  {
   "cell_type": "code",
   "execution_count": 33,
   "metadata": {},
   "outputs": [],
   "source": [
    "#baseline grades\n",
    "def grade_modeling(df,N,E):\n",
    "    student_ids = df.alt_id.unique()\n",
    "    target = []\n",
    "    for s_id in student_ids:\n",
    "        grad = df[df['alt_id'] == s_id].iloc[0].Graduated\n",
    "        target.append(grad)\n",
    "    grade_sequences = []\n",
    "    for s_id in student_ids:\n",
    "        frame = df[df['alt_id'] == s_id]\n",
    "        grades = ' '.join(frame['Sttr Stu Final Grades'].to_list())\n",
    "        grade_sequences.append(grades)\n",
    "    tokenizer = Tokenizer()\n",
    "    tokenizer.fit_on_texts(grade_sequences)\n",
    "    encoded_sequences = tokenizer.texts_to_sequences(grade_sequences)\n",
    "    padded_grade_sequences = pad_sequences(\n",
    "    encoded_sequences, maxlen=N, dtype='int32', padding='post',\n",
    "    truncating='post', value=0.0)\n",
    "    padded_reshaped_grades = padded_grade_sequences.reshape(1455, N, 1)\n",
    "\n",
    "    model = Sequential()\n",
    "    input_layer = Input(shape=(N, 1))\n",
    "    sequential_1 = LSTM(64, activation='relu')\n",
    "    output_layer = Dense(1, activation='sigmoid')\n",
    "\n",
    "    model.add(input_layer)\n",
    "    model.add(sequential_1)\n",
    "    model.add(output_layer)\n",
    "\n",
    "    model.compile(optimizer='adam', loss='binary_crossentropy', metrics = ['accuracy'])\n",
    "    model.fit(padded_reshaped_grades, np.array(target), epochs=E, validation_split = .2)\n",
    "    \n",
    "    accuracy = model.history.history['accuracy']\n",
    "    print(round(accuracy[-1],2))\n",
    "    \n",
    "     #plot\n",
    "    fig, (ax1,ax2) = plt.subplots(1,2)\n",
    "\n",
    "    ax1.plot(model.history.epoch, model.history.history['loss'], label='Train')\n",
    "    ax1.plot(model.history.epoch, model.history.history['val_loss'], label='Validation')\n",
    "    \n",
    "    ax1.legend()\n",
    "    \n",
    "    ax2.plot(model.history.epoch, model.history.history['accuracy'], label='Train')\n",
    "    ax2.plot(model.history.epoch, model.history.history['val_accuracy'], label='Validation')\n",
    "    \n",
    "    ax2.legend()\n",
    "    \n",
    "    #loss = model.history.history['loss']\n",
    "   # print(round(loss[-1],2))\n",
    "\n",
    "#pd.DataFrame(feature_encoder.transform(np.array(padded_grade_sequences[0]).reshape(-1,1)).todense())\n",
    "#np.array(padded_grade_sequences[0]).reshape(-1,1)"
   ]
  },
  {
   "cell_type": "markdown",
   "metadata": {},
   "source": [
    "\n",
    "\n",
    "\n",
    "\n",
    "\n",
    "\n",
    "\n",
    "\n",
    "\n",
    "\n",
    "\n",
    "### Baseline -- Full Course Sequence"
   ]
  },
  {
   "cell_type": "code",
   "execution_count": 34,
   "metadata": {
    "scrolled": true
   },
   "outputs": [
    {
     "name": "stdout",
     "output_type": "stream",
     "text": [
      "Epoch 1/10\n",
      "37/37 [==============================] - 1s 17ms/step - loss: 0.6562 - accuracy: 0.6237 - val_loss: 0.6655 - val_accuracy: 0.5601\n",
      "Epoch 2/10\n",
      "37/37 [==============================] - 0s 12ms/step - loss: 0.5836 - accuracy: 0.6641 - val_loss: 0.6129 - val_accuracy: 0.5601\n",
      "Epoch 3/10\n",
      "37/37 [==============================] - 0s 13ms/step - loss: 0.4329 - accuracy: 0.7139 - val_loss: 0.4821 - val_accuracy: 0.8110\n",
      "Epoch 4/10\n",
      "37/37 [==============================] - 0s 13ms/step - loss: 0.2597 - accuracy: 0.9399 - val_loss: 0.3107 - val_accuracy: 0.8935\n",
      "Epoch 5/10\n",
      "37/37 [==============================] - 1s 14ms/step - loss: 0.2283 - accuracy: 0.9235 - val_loss: 0.4109 - val_accuracy: 0.8351\n",
      "Epoch 6/10\n",
      "37/37 [==============================] - 0s 13ms/step - loss: 0.4373 - accuracy: 0.9270 - val_loss: 1.2190 - val_accuracy: 0.6873\n",
      "Epoch 7/10\n",
      "37/37 [==============================] - 0s 13ms/step - loss: 0.3822 - accuracy: 0.9149 - val_loss: 0.3903 - val_accuracy: 0.9003\n",
      "Epoch 8/10\n",
      "37/37 [==============================] - 0s 13ms/step - loss: 0.2396 - accuracy: 0.9442 - val_loss: 0.3038 - val_accuracy: 0.8969\n",
      "Epoch 9/10\n",
      "37/37 [==============================] - 1s 17ms/step - loss: 0.1942 - accuracy: 0.9485 - val_loss: 0.3027 - val_accuracy: 0.9107\n",
      "Epoch 10/10\n",
      "37/37 [==============================] - 0s 12ms/step - loss: 0.1811 - accuracy: 0.9485 - val_loss: 0.2541 - val_accuracy: 0.9141\n",
      "0.95\n"
     ]
    },
    {
     "data": {
      "image/png": "[encoded data removed]",
      "text/plain": [
       "<Figure size 432x288 with 2 Axes>"
      ]
     },
     "metadata": {
      "needs_background": "light"
     },
     "output_type": "display_data"
    }
   ],
   "source": [
    "#Full Course - 45 classes\n",
    "grade_modeling(data,45,10)"
   ]
  },
  {
   "cell_type": "markdown",
   "metadata": {},
   "source": [
    "### First Semester Freshman Year Grades"
   ]
  },
  {
   "cell_type": "code",
   "execution_count": 36,
   "metadata": {},
   "outputs": [
    {
     "name": "stdout",
     "output_type": "stream",
     "text": [
      "Epoch 1/15\n",
      "37/37 [==============================] - 0s 7ms/step - loss: 0.6708 - accuracy: 0.6641 - val_loss: 0.7044 - val_accuracy: 0.5601\n",
      "Epoch 2/15\n",
      "37/37 [==============================] - 0s 3ms/step - loss: 0.6462 - accuracy: 0.6658 - val_loss: 0.6637 - val_accuracy: 0.6117\n",
      "Epoch 3/15\n",
      "37/37 [==============================] - 0s 2ms/step - loss: 0.6145 - accuracy: 0.6924 - val_loss: 0.5963 - val_accuracy: 0.6529\n",
      "Epoch 4/15\n",
      "37/37 [==============================] - 0s 2ms/step - loss: 0.5888 - accuracy: 0.7122 - val_loss: 0.5679 - val_accuracy: 0.6804\n",
      "Epoch 5/15\n",
      "37/37 [==============================] - 0s 2ms/step - loss: 0.5889 - accuracy: 0.7027 - val_loss: 0.5742 - val_accuracy: 0.6804\n",
      "Epoch 6/15\n",
      "37/37 [==============================] - 0s 3ms/step - loss: 0.5935 - accuracy: 0.7079 - val_loss: 0.5821 - val_accuracy: 0.6770\n",
      "Epoch 7/15\n",
      "37/37 [==============================] - 0s 2ms/step - loss: 0.5835 - accuracy: 0.7105 - val_loss: 0.5698 - val_accuracy: 0.6838\n",
      "Epoch 8/15\n",
      "37/37 [==============================] - 0s 2ms/step - loss: 0.5844 - accuracy: 0.7053 - val_loss: 0.5923 - val_accuracy: 0.6632\n",
      "Epoch 9/15\n",
      "37/37 [==============================] - 0s 2ms/step - loss: 0.5811 - accuracy: 0.7088 - val_loss: 0.6073 - val_accuracy: 0.6426\n",
      "Epoch 10/15\n",
      "37/37 [==============================] - 0s 2ms/step - loss: 0.5837 - accuracy: 0.7139 - val_loss: 0.5831 - val_accuracy: 0.6735\n",
      "Epoch 11/15\n",
      "37/37 [==============================] - 0s 2ms/step - loss: 0.5797 - accuracy: 0.7088 - val_loss: 0.5881 - val_accuracy: 0.6667\n",
      "Epoch 12/15\n",
      "37/37 [==============================] - 0s 2ms/step - loss: 0.5779 - accuracy: 0.7156 - val_loss: 0.5744 - val_accuracy: 0.6838\n",
      "Epoch 13/15\n",
      "37/37 [==============================] - 0s 2ms/step - loss: 0.5747 - accuracy: 0.7148 - val_loss: 0.5835 - val_accuracy: 0.6770\n",
      "Epoch 14/15\n",
      "37/37 [==============================] - 0s 2ms/step - loss: 0.5739 - accuracy: 0.7122 - val_loss: 0.5717 - val_accuracy: 0.6873\n",
      "Epoch 15/15\n",
      "37/37 [==============================] - 0s 2ms/step - loss: 0.5714 - accuracy: 0.7199 - val_loss: 0.5598 - val_accuracy: 0.6976\n",
      "0.72\n"
     ]
    },
    {
     "data": {
      "image/png": "[encoded data removed]",
      "text/plain": [
       "<Figure size 432x288 with 2 Axes>"
      ]
     },
     "metadata": {
      "needs_background": "light"
     },
     "output_type": "display_data"
    }
   ],
   "source": [
    "#Freshman 1st Semester\n",
    "grade_modeling(data,4,15)"
   ]
  },
  {
   "cell_type": "markdown",
   "metadata": {},
   "source": [
    "### After Sophomore Year"
   ]
  },
  {
   "cell_type": "code",
   "execution_count": 39,
   "metadata": {},
   "outputs": [
    {
     "name": "stdout",
     "output_type": "stream",
     "text": [
      "Epoch 1/15\n",
      "37/37 [==============================] - 0s 10ms/step - loss: 0.5999 - accuracy: 0.7758 - val_loss: 0.5962 - val_accuracy: 0.7801\n",
      "Epoch 2/15\n",
      "37/37 [==============================] - 0s 6ms/step - loss: 0.4634 - accuracy: 0.8531 - val_loss: 0.5302 - val_accuracy: 0.7869\n",
      "Epoch 3/15\n",
      "37/37 [==============================] - 0s 5ms/step - loss: 0.4116 - accuracy: 0.8591 - val_loss: 0.5035 - val_accuracy: 0.8041\n",
      "Epoch 4/15\n",
      "37/37 [==============================] - 0s 5ms/step - loss: 0.4011 - accuracy: 0.8582 - val_loss: 0.4920 - val_accuracy: 0.7973\n",
      "Epoch 5/15\n",
      "37/37 [==============================] - 0s 6ms/step - loss: 0.3731 - accuracy: 0.8694 - val_loss: 0.4552 - val_accuracy: 0.8076\n",
      "Epoch 6/15\n",
      "37/37 [==============================] - 0s 5ms/step - loss: 0.3462 - accuracy: 0.8711 - val_loss: 0.3960 - val_accuracy: 0.8247\n",
      "Epoch 7/15\n",
      "37/37 [==============================] - 0s 6ms/step - loss: 0.3237 - accuracy: 0.8754 - val_loss: 0.3887 - val_accuracy: 0.8247\n",
      "Epoch 8/15\n",
      "37/37 [==============================] - 0s 5ms/step - loss: 0.3053 - accuracy: 0.8892 - val_loss: 0.3770 - val_accuracy: 0.8488\n",
      "Epoch 9/15\n",
      "37/37 [==============================] - 0s 6ms/step - loss: 0.3059 - accuracy: 0.8892 - val_loss: 0.3696 - val_accuracy: 0.8419\n",
      "Epoch 10/15\n",
      "37/37 [==============================] - 0s 5ms/step - loss: 0.3081 - accuracy: 0.8840 - val_loss: 0.3771 - val_accuracy: 0.8316\n",
      "Epoch 11/15\n",
      "37/37 [==============================] - 0s 5ms/step - loss: 0.3036 - accuracy: 0.8969 - val_loss: 0.4198 - val_accuracy: 0.8179\n",
      "Epoch 12/15\n",
      "37/37 [==============================] - 0s 5ms/step - loss: 0.2986 - accuracy: 0.8918 - val_loss: 0.4098 - val_accuracy: 0.8282\n",
      "Epoch 13/15\n",
      "37/37 [==============================] - 0s 5ms/step - loss: 0.2916 - accuracy: 0.8935 - val_loss: 0.3672 - val_accuracy: 0.8488\n",
      "Epoch 14/15\n",
      "37/37 [==============================] - 0s 5ms/step - loss: 0.2961 - accuracy: 0.9003 - val_loss: 0.4125 - val_accuracy: 0.8247\n",
      "Epoch 15/15\n",
      "37/37 [==============================] - 0s 6ms/step - loss: 0.2935 - accuracy: 0.8960 - val_loss: 0.4181 - val_accuracy: 0.8282\n",
      "0.9\n"
     ]
    },
    {
     "data": {
      "image/png": "[encoded data removed]",
      "text/plain": [
       "<Figure size 432x288 with 2 Axes>"
      ]
     },
     "metadata": {
      "needs_background": "light"
     },
     "output_type": "display_data"
    }
   ],
   "source": [
    "#Sophomore\n",
    "grade_modeling(data,16,15)"
   ]
  },
  {
   "cell_type": "code",
   "execution_count": null,
   "metadata": {},
   "outputs": [],
   "source": []
  }
 ],
 "metadata": {
  "kernelspec": {
   "display_name": "learn-env",
   "language": "python",
   "name": "learn-env"
  },
  "language_info": {
   "codemirror_mode": {
    "name": "ipython",
    "version": 3
   },
   "file_extension": ".py",
   "mimetype": "text/x-python",
   "name": "python",
   "nbconvert_exporter": "python",
   "pygments_lexer": "ipython3",
   "version": "3.8.5"
  },
  "toc": {
   "base_numbering": 1,
   "nav_menu": {},
   "number_sections": true,
   "sideBar": true,
   "skip_h1_title": false,
   "title_cell": "Table of Contents",
   "title_sidebar": "Contents",
   "toc_cell": false,
   "toc_position": {},
   "toc_section_display": true,
   "toc_window_display": false
  }
 },
 "nbformat": 4,
 "nbformat_minor": 4
}
