{
 "cells": [
  {
   "cell_type": "code",
   "execution_count": 1,
   "metadata": {},
   "outputs": [
    {
     "name": "stdout",
     "output_type": "stream",
     "text": [
      "Requirement already satisfied: numpy==1.19.5 in /Users/clementinelacey/opt/anaconda3/envs/learn-env/lib/python3.8/site-packages (1.19.5)\r\n"
     ]
    }
   ],
   "source": [
    "import pandas as pd\n",
    "from sklearn.model_selection import train_test_split\n",
    "from sklearn.preprocessing import OneHotEncoder\n",
    "from numpy import asarray\n",
    "import numpy as np\n",
    "from tensorflow.keras.preprocessing.sequence import pad_sequences\n",
    "from tensorflow.keras.preprocessing.text import Tokenizer\n",
    "from tensorflow.keras import Sequential, Input\n",
    "from tensorflow.keras.layers import LSTM, Bidirectional, Dense\n",
    "from sklearn.preprocessing import LabelBinarizer\n",
    "from keras.utils.np_utils import to_categorical\n",
    "%config Completer.use_jedi = False\n",
    "import matplotlib.pyplot as plt\n",
    "from tensorflow.keras import layers, Model, utils\n",
    "!pip install numpy==1.19.5"
   ]
  },
  {
   "cell_type": "code",
   "execution_count": 2,
   "metadata": {},
   "outputs": [],
   "source": [
    "df = pd.read_csv('../../data/anonymized_bsc_dataPVZ.csv', low_memory=False)"
   ]
  },
  {
   "cell_type": "code",
   "execution_count": 3,
   "metadata": {},
   "outputs": [
    {
     "data": {
      "text/html": [
       "<div>\n",
       "<style scoped>\n",
       "    .dataframe tbody tr th:only-of-type {\n",
       "        vertical-align: middle;\n",
       "    }\n",
       "\n",
       "    .dataframe tbody tr th {\n",
       "        vertical-align: top;\n",
       "    }\n",
       "\n",
       "    .dataframe thead th {\n",
       "        text-align: right;\n",
       "    }\n",
       "</style>\n",
       "<table border=\"1\" class=\"dataframe\">\n",
       "  <thead>\n",
       "    <tr style=\"text-align: right;\">\n",
       "      <th></th>\n",
       "      <th>Sttr Term</th>\n",
       "      <th>course_#</th>\n",
       "      <th>course_title</th>\n",
       "      <th>Sttr Student Load</th>\n",
       "      <th>Sttr Stu Credits</th>\n",
       "      <th>Sttr Attempted Cred</th>\n",
       "      <th>Sttr Stu Final Grades</th>\n",
       "      <th>Sttr Cmpl Cred</th>\n",
       "      <th>Sttr Term Gpa</th>\n",
       "      <th>faculty</th>\n",
       "      <th>...</th>\n",
       "      <th>FA5 Enr</th>\n",
       "      <th>FA5 Class</th>\n",
       "      <th>FA5 Major</th>\n",
       "      <th>FA6 Enr</th>\n",
       "      <th>FA6 Class</th>\n",
       "      <th>FA6 Major</th>\n",
       "      <th>Graduated</th>\n",
       "      <th>Grad Term</th>\n",
       "      <th>Grad Year</th>\n",
       "      <th>Grad Major</th>\n",
       "    </tr>\n",
       "  </thead>\n",
       "  <tbody>\n",
       "    <tr>\n",
       "      <th>0</th>\n",
       "      <td>15/SP</td>\n",
       "      <td>DA 101 A</td>\n",
       "      <td>Basic Ballet</td>\n",
       "      <td>F</td>\n",
       "      <td>0.5</td>\n",
       "      <td>3.0</td>\n",
       "      <td>W</td>\n",
       "      <td>3.0</td>\n",
       "      <td>3.667</td>\n",
       "      <td>Melissa Turnage</td>\n",
       "      <td>...</td>\n",
       "      <td>NaN</td>\n",
       "      <td>NaN</td>\n",
       "      <td>NaN</td>\n",
       "      <td>NaN</td>\n",
       "      <td>NaN</td>\n",
       "      <td>NaN</td>\n",
       "      <td>Y</td>\n",
       "      <td>18/SP</td>\n",
       "      <td>1718.0</td>\n",
       "      <td>Psychology</td>\n",
       "    </tr>\n",
       "    <tr>\n",
       "      <th>1</th>\n",
       "      <td>15/SP</td>\n",
       "      <td>HI 155 A-ES</td>\n",
       "      <td>Reforming America</td>\n",
       "      <td>F</td>\n",
       "      <td>1.0</td>\n",
       "      <td>NaN</td>\n",
       "      <td>A-</td>\n",
       "      <td>3.0</td>\n",
       "      <td>3.667</td>\n",
       "      <td>Victoria Ott</td>\n",
       "      <td>...</td>\n",
       "      <td>NaN</td>\n",
       "      <td>NaN</td>\n",
       "      <td>NaN</td>\n",
       "      <td>NaN</td>\n",
       "      <td>NaN</td>\n",
       "      <td>NaN</td>\n",
       "      <td>Y</td>\n",
       "      <td>18/SP</td>\n",
       "      <td>1718.0</td>\n",
       "      <td>Psychology</td>\n",
       "    </tr>\n",
       "    <tr>\n",
       "      <th>2</th>\n",
       "      <td>15/SP</td>\n",
       "      <td>PL 200 A-CI</td>\n",
       "      <td>Ethical Choice</td>\n",
       "      <td>F</td>\n",
       "      <td>1.0</td>\n",
       "      <td>NaN</td>\n",
       "      <td>B+</td>\n",
       "      <td>3.0</td>\n",
       "      <td>3.667</td>\n",
       "      <td>William Myers</td>\n",
       "      <td>...</td>\n",
       "      <td>NaN</td>\n",
       "      <td>NaN</td>\n",
       "      <td>NaN</td>\n",
       "      <td>NaN</td>\n",
       "      <td>NaN</td>\n",
       "      <td>NaN</td>\n",
       "      <td>Y</td>\n",
       "      <td>18/SP</td>\n",
       "      <td>1718.0</td>\n",
       "      <td>Psychology</td>\n",
       "    </tr>\n",
       "    <tr>\n",
       "      <th>3</th>\n",
       "      <td>15/SP</td>\n",
       "      <td>IDS 200 A-CI</td>\n",
       "      <td>Intro to Human Rights (GP)</td>\n",
       "      <td>F</td>\n",
       "      <td>1.0</td>\n",
       "      <td>NaN</td>\n",
       "      <td>A</td>\n",
       "      <td>3.0</td>\n",
       "      <td>3.667</td>\n",
       "      <td>Sandra Sprayberry</td>\n",
       "      <td>...</td>\n",
       "      <td>NaN</td>\n",
       "      <td>NaN</td>\n",
       "      <td>NaN</td>\n",
       "      <td>NaN</td>\n",
       "      <td>NaN</td>\n",
       "      <td>NaN</td>\n",
       "      <td>Y</td>\n",
       "      <td>18/SP</td>\n",
       "      <td>1718.0</td>\n",
       "      <td>Psychology</td>\n",
       "    </tr>\n",
       "    <tr>\n",
       "      <th>4</th>\n",
       "      <td>15/WI</td>\n",
       "      <td>GEN E299 49</td>\n",
       "      <td>Exploration Project</td>\n",
       "      <td>F</td>\n",
       "      <td>1.0</td>\n",
       "      <td>1.0</td>\n",
       "      <td>S</td>\n",
       "      <td>1.0</td>\n",
       "      <td>0.000</td>\n",
       "      <td>Vincent Gawronski</td>\n",
       "      <td>...</td>\n",
       "      <td>NaN</td>\n",
       "      <td>NaN</td>\n",
       "      <td>NaN</td>\n",
       "      <td>NaN</td>\n",
       "      <td>NaN</td>\n",
       "      <td>NaN</td>\n",
       "      <td>Y</td>\n",
       "      <td>18/SP</td>\n",
       "      <td>1718.0</td>\n",
       "      <td>Psychology</td>\n",
       "    </tr>\n",
       "  </tbody>\n",
       "</table>\n",
       "<p>5 rows × 34 columns</p>\n",
       "</div>"
      ],
      "text/plain": [
       "  Sttr Term      course_#                course_title Sttr Student Load  \\\n",
       "0     15/SP      DA 101 A                Basic Ballet                 F   \n",
       "1     15/SP   HI 155 A-ES           Reforming America                 F   \n",
       "2     15/SP   PL 200 A-CI              Ethical Choice                 F   \n",
       "3     15/SP  IDS 200 A-CI  Intro to Human Rights (GP)                 F   \n",
       "4     15/WI   GEN E299 49         Exploration Project                 F   \n",
       "\n",
       "   Sttr Stu Credits  Sttr Attempted Cred Sttr Stu Final Grades  \\\n",
       "0               0.5                  3.0                     W   \n",
       "1               1.0                  NaN                    A-   \n",
       "2               1.0                  NaN                    B+   \n",
       "3               1.0                  NaN                     A   \n",
       "4               1.0                  1.0                     S   \n",
       "\n",
       "   Sttr Cmpl Cred  Sttr Term Gpa            faculty  ...  FA5 Enr FA5 Class  \\\n",
       "0             3.0          3.667    Melissa Turnage  ...      NaN       NaN   \n",
       "1             3.0          3.667       Victoria Ott  ...      NaN       NaN   \n",
       "2             3.0          3.667      William Myers  ...      NaN       NaN   \n",
       "3             3.0          3.667  Sandra Sprayberry  ...      NaN       NaN   \n",
       "4             1.0          0.000  Vincent Gawronski  ...      NaN       NaN   \n",
       "\n",
       "  FA5 Major  FA6 Enr FA6 Class FA6 Major  Graduated Grad Term Grad Year  \\\n",
       "0       NaN      NaN       NaN       NaN          Y     18/SP    1718.0   \n",
       "1       NaN      NaN       NaN       NaN          Y     18/SP    1718.0   \n",
       "2       NaN      NaN       NaN       NaN          Y     18/SP    1718.0   \n",
       "3       NaN      NaN       NaN       NaN          Y     18/SP    1718.0   \n",
       "4       NaN      NaN       NaN       NaN          Y     18/SP    1718.0   \n",
       "\n",
       "   Grad Major  \n",
       "0  Psychology  \n",
       "1  Psychology  \n",
       "2  Psychology  \n",
       "3  Psychology  \n",
       "4  Psychology  \n",
       "\n",
       "[5 rows x 34 columns]"
      ]
     },
     "execution_count": 3,
     "metadata": {},
     "output_type": "execute_result"
    }
   ],
   "source": [
    "df.head()"
   ]
  },
  {
   "cell_type": "markdown",
   "metadata": {},
   "source": [
    "# Preprocessing"
   ]
  },
  {
   "cell_type": "code",
   "execution_count": 4,
   "metadata": {},
   "outputs": [
    {
     "data": {
      "text/html": [
       "<div>\n",
       "<style scoped>\n",
       "    .dataframe tbody tr th:only-of-type {\n",
       "        vertical-align: middle;\n",
       "    }\n",
       "\n",
       "    .dataframe tbody tr th {\n",
       "        vertical-align: top;\n",
       "    }\n",
       "\n",
       "    .dataframe thead th {\n",
       "        text-align: right;\n",
       "    }\n",
       "</style>\n",
       "<table border=\"1\" class=\"dataframe\">\n",
       "  <thead>\n",
       "    <tr style=\"text-align: right;\">\n",
       "      <th></th>\n",
       "      <th>Sttr Term</th>\n",
       "      <th>course_#</th>\n",
       "      <th>course_title</th>\n",
       "      <th>Sttr Student Load</th>\n",
       "      <th>Sttr Stu Credits</th>\n",
       "      <th>Sttr Attempted Cred</th>\n",
       "      <th>Sttr Stu Final Grades</th>\n",
       "      <th>Sttr Cmpl Cred</th>\n",
       "      <th>Sttr Term Gpa</th>\n",
       "      <th>faculty</th>\n",
       "      <th>...</th>\n",
       "      <th>FA5 Enr</th>\n",
       "      <th>FA5 Class</th>\n",
       "      <th>FA5 Major</th>\n",
       "      <th>FA6 Enr</th>\n",
       "      <th>FA6 Class</th>\n",
       "      <th>FA6 Major</th>\n",
       "      <th>Graduated</th>\n",
       "      <th>Grad Term</th>\n",
       "      <th>Grad Year</th>\n",
       "      <th>Grad Major</th>\n",
       "    </tr>\n",
       "  </thead>\n",
       "  <tbody>\n",
       "    <tr>\n",
       "      <th>6784</th>\n",
       "      <td>14/D</td>\n",
       "      <td>EH 208 B</td>\n",
       "      <td>Intermediate Writing</td>\n",
       "      <td>F</td>\n",
       "      <td>1.00</td>\n",
       "      <td>NaN</td>\n",
       "      <td>F</td>\n",
       "      <td>1.00</td>\n",
       "      <td>1.110</td>\n",
       "      <td>Sandra Sprayberry</td>\n",
       "      <td>...</td>\n",
       "      <td>NaN</td>\n",
       "      <td>NaN</td>\n",
       "      <td>NaN</td>\n",
       "      <td>NaN</td>\n",
       "      <td>NaN</td>\n",
       "      <td>NaN</td>\n",
       "      <td>1</td>\n",
       "      <td>18/SP</td>\n",
       "      <td>1718.0</td>\n",
       "      <td>Urban Environmental Studies</td>\n",
       "    </tr>\n",
       "    <tr>\n",
       "      <th>7369</th>\n",
       "      <td>14/D</td>\n",
       "      <td>BI 115 A-SM</td>\n",
       "      <td>Organismal Biology</td>\n",
       "      <td>F</td>\n",
       "      <td>1.00</td>\n",
       "      <td>3.0</td>\n",
       "      <td>F</td>\n",
       "      <td>1.00</td>\n",
       "      <td>0.557</td>\n",
       "      <td>Andrew Gannon</td>\n",
       "      <td>...</td>\n",
       "      <td>NaN</td>\n",
       "      <td>NaN</td>\n",
       "      <td>NaN</td>\n",
       "      <td>NaN</td>\n",
       "      <td>NaN</td>\n",
       "      <td>NaN</td>\n",
       "      <td>0</td>\n",
       "      <td>NaN</td>\n",
       "      <td>NaN</td>\n",
       "      <td>NaN</td>\n",
       "    </tr>\n",
       "    <tr>\n",
       "      <th>7370</th>\n",
       "      <td>14/D</td>\n",
       "      <td>PY 101 F</td>\n",
       "      <td>Introduction to Psychology</td>\n",
       "      <td>F</td>\n",
       "      <td>1.00</td>\n",
       "      <td>NaN</td>\n",
       "      <td>C-</td>\n",
       "      <td>1.00</td>\n",
       "      <td>0.557</td>\n",
       "      <td>Gabrielle Smith</td>\n",
       "      <td>...</td>\n",
       "      <td>NaN</td>\n",
       "      <td>NaN</td>\n",
       "      <td>NaN</td>\n",
       "      <td>NaN</td>\n",
       "      <td>NaN</td>\n",
       "      <td>NaN</td>\n",
       "      <td>0</td>\n",
       "      <td>NaN</td>\n",
       "      <td>NaN</td>\n",
       "      <td>NaN</td>\n",
       "    </tr>\n",
       "    <tr>\n",
       "      <th>7371</th>\n",
       "      <td>14/D</td>\n",
       "      <td>EH 102 C</td>\n",
       "      <td>Sem Critical Thinking Writing</td>\n",
       "      <td>F</td>\n",
       "      <td>1.00</td>\n",
       "      <td>NaN</td>\n",
       "      <td>F</td>\n",
       "      <td>1.00</td>\n",
       "      <td>0.557</td>\n",
       "      <td>Steven Carter</td>\n",
       "      <td>...</td>\n",
       "      <td>NaN</td>\n",
       "      <td>NaN</td>\n",
       "      <td>NaN</td>\n",
       "      <td>NaN</td>\n",
       "      <td>NaN</td>\n",
       "      <td>NaN</td>\n",
       "      <td>0</td>\n",
       "      <td>NaN</td>\n",
       "      <td>NaN</td>\n",
       "      <td>NaN</td>\n",
       "    </tr>\n",
       "    <tr>\n",
       "      <th>1114</th>\n",
       "      <td>14/D</td>\n",
       "      <td>MS 120 D</td>\n",
       "      <td>Voice</td>\n",
       "      <td>F</td>\n",
       "      <td>0.25</td>\n",
       "      <td>NaN</td>\n",
       "      <td>A</td>\n",
       "      <td>3.25</td>\n",
       "      <td>3.591</td>\n",
       "      <td>Erin Ludwick</td>\n",
       "      <td>...</td>\n",
       "      <td>NaN</td>\n",
       "      <td>NaN</td>\n",
       "      <td>NaN</td>\n",
       "      <td>NaN</td>\n",
       "      <td>NaN</td>\n",
       "      <td>NaN</td>\n",
       "      <td>1</td>\n",
       "      <td>18/SP</td>\n",
       "      <td>1718.0</td>\n",
       "      <td>Biology</td>\n",
       "    </tr>\n",
       "  </tbody>\n",
       "</table>\n",
       "<p>5 rows × 34 columns</p>\n",
       "</div>"
      ],
      "text/plain": [
       "     Sttr Term     course_#                   course_title Sttr Student Load  \\\n",
       "6784      14/D     EH 208 B           Intermediate Writing                 F   \n",
       "7369      14/D  BI 115 A-SM             Organismal Biology                 F   \n",
       "7370      14/D     PY 101 F     Introduction to Psychology                 F   \n",
       "7371      14/D     EH 102 C  Sem Critical Thinking Writing                 F   \n",
       "1114      14/D     MS 120 D                          Voice                 F   \n",
       "\n",
       "      Sttr Stu Credits  Sttr Attempted Cred Sttr Stu Final Grades  \\\n",
       "6784              1.00                  NaN                     F   \n",
       "7369              1.00                  3.0                     F   \n",
       "7370              1.00                  NaN                    C-   \n",
       "7371              1.00                  NaN                     F   \n",
       "1114              0.25                  NaN                     A   \n",
       "\n",
       "      Sttr Cmpl Cred  Sttr Term Gpa            faculty  ...  FA5 Enr  \\\n",
       "6784            1.00          1.110  Sandra Sprayberry  ...      NaN   \n",
       "7369            1.00          0.557      Andrew Gannon  ...      NaN   \n",
       "7370            1.00          0.557    Gabrielle Smith  ...      NaN   \n",
       "7371            1.00          0.557      Steven Carter  ...      NaN   \n",
       "1114            3.25          3.591       Erin Ludwick  ...      NaN   \n",
       "\n",
       "     FA5 Class FA5 Major  FA6 Enr FA6 Class FA6 Major  Graduated Grad Term  \\\n",
       "6784       NaN       NaN      NaN       NaN       NaN          1     18/SP   \n",
       "7369       NaN       NaN      NaN       NaN       NaN          0       NaN   \n",
       "7370       NaN       NaN      NaN       NaN       NaN          0       NaN   \n",
       "7371       NaN       NaN      NaN       NaN       NaN          0       NaN   \n",
       "1114       NaN       NaN      NaN       NaN       NaN          1     18/SP   \n",
       "\n",
       "     Grad Year                   Grad Major  \n",
       "6784    1718.0  Urban Environmental Studies  \n",
       "7369       NaN                          NaN  \n",
       "7370       NaN                          NaN  \n",
       "7371       NaN                          NaN  \n",
       "1114    1718.0                      Biology  \n",
       "\n",
       "[5 rows x 34 columns]"
      ]
     },
     "execution_count": 4,
     "metadata": {},
     "output_type": "execute_result"
    }
   ],
   "source": [
    "#changing nomenclature for term so that we can sort in chronological order by that column\n",
    "df['Sttr Term'] = df['Sttr Term'].replace({'WI':'A','SP':'B', 'SU':'C', 'FA':'D'}, regex=True)\n",
    "#dropping completely null rows\n",
    "df.drop(df.index[51518:51537], inplace=True)\n",
    "#isolating students who would have been able to graduate in the timeframe of our given data\n",
    "df = df.loc[(df['Cohort'] == '14/FA') | (df['Cohort'] == '15/FA') | (df['Cohort'] == '16/FA')\n",
    "              | (df['Cohort'] == '17/FA')]\n",
    "df = df.dropna(subset=['Sttr Term'])\n",
    "df['alt_id'] = df['alt_id'].astype(int)\n",
    "#encoding our target\n",
    "mapping = {'N': 0, 'Y': 1}\n",
    "df['Graduated'] = df['Graduated'].map(mapping)\n",
    "data = df.sort_values(['Sttr Term'], ascending=True)\n",
    "data.head()"
   ]
  },
  {
   "cell_type": "markdown",
   "metadata": {},
   "source": [
    "# EDA"
   ]
  },
  {
   "cell_type": "code",
   "execution_count": 5,
   "metadata": {},
   "outputs": [
    {
     "data": {
      "text/plain": [
       "1139    64\n",
       "1469    62\n",
       "2046    62\n",
       "1002    62\n",
       "2328    60\n",
       "        ..\n",
       "2030     3\n",
       "2516     3\n",
       "1732     3\n",
       "1191     3\n",
       "1857     3\n",
       "Name: alt_id, Length: 1455, dtype: int64"
      ]
     },
     "execution_count": 5,
     "metadata": {},
     "output_type": "execute_result"
    }
   ],
   "source": [
    "#investigating how many classes students are taking to find outliers\n",
    "df.alt_id.value_counts(ascending=False)"
   ]
  },
  {
   "cell_type": "code",
   "execution_count": 6,
   "metadata": {},
   "outputs": [
    {
     "data": {
      "text/plain": [
       "952"
      ]
     },
     "execution_count": 6,
     "metadata": {},
     "output_type": "execute_result"
    }
   ],
   "source": [
    "#Checking for Course Title Duplicates\n",
    "df['course_title'].nunique()"
   ]
  },
  {
   "cell_type": "markdown",
   "metadata": {},
   "source": [
    "# Modeling"
   ]
  },
  {
   "cell_type": "markdown",
   "metadata": {},
   "source": [
    "## Course Sequential Model"
   ]
  },
  {
   "cell_type": "code",
   "execution_count": 7,
   "metadata": {},
   "outputs": [],
   "source": [
    "#target = []\n",
    "#student_ids = df.alt_id.unique()\n",
    "#for s_id in student_ids:\n",
    " #   grad = df[df['alt_id'] == s_id].iloc[0].Graduated\n",
    "  #  target.append(grad)"
   ]
  },
  {
   "cell_type": "code",
   "execution_count": 8,
   "metadata": {},
   "outputs": [],
   "source": [
    "#Baseline Course Sequence\n",
    "def course_modeling(df, N, E):\n",
    "    target = []\n",
    "    course_sequences = []\n",
    "    student_ids = df.alt_id.unique()\n",
    "    for s_id in student_ids:\n",
    "        grad = df[df['alt_id'] == s_id].iloc[0].Graduated\n",
    "        target.append(grad)\n",
    "    for s_id in student_ids:\n",
    "        frame = df[df['alt_id'] == s_id]\n",
    "        course_ids = ' '.join(frame.course_title.str.replace(' ', '').to_list())\n",
    "        course_sequences.append(course_ids)\n",
    "        \n",
    "    tokenizer = Tokenizer()\n",
    "    tokenizer.fit_on_texts(course_sequences)\n",
    "    #Tozenizing course sequences to prepare for model\n",
    "    encoded_sequences = tokenizer.texts_to_sequences(course_sequences)\n",
    "    #Accounting for students with many more courses\n",
    "    padded_course_sequences = pad_sequences(encoded_sequences, maxlen=N, dtype='int32', padding='post',\n",
    "    truncating='post', value=0.0)\n",
    "    padded_reshaped_courses = padded_course_sequences.reshape(1455, N, 1)\n",
    "\n",
    "    model = Sequential()\n",
    "    input_layer = Input(shape=(N, 1))\n",
    "    sequential_1 = LSTM(64, activation='relu')\n",
    "    output_layer = Dense(1, activation='sigmoid')\n",
    "\n",
    "    model.add(input_layer)\n",
    "    model.add(sequential_1)\n",
    "    model.add(output_layer)\n",
    "\n",
    "    model.compile(optimizer='adam', loss='binary_crossentropy', metrics = ['accuracy'])\n",
    "    model.fit(padded_reshaped_courses, np.array(target), epochs=E, validation_split = .2)\n",
    "    \n",
    "     #plot\n",
    "    fig, (ax1,ax2) = plt.subplots(1,2)\n",
    "\n",
    "    ax1.plot(model.history.epoch, model.history.history['loss'], label='Train')\n",
    "    ax1.plot(model.history.epoch, model.history.history['val_loss'], label='Validation')\n",
    "    \n",
    "    ax1.legend()\n",
    "    \n",
    "    ax2.plot(model.history.epoch, model.history.history['accuracy'], label='Train')\n",
    "    ax2.plot(model.history.epoch, model.history.history['val_accuracy'], label='Validation')\n",
    "    \n",
    "    ax2.legend()"
   ]
  },
  {
   "cell_type": "markdown",
   "metadata": {},
   "source": [
    "### Baseline - Full Course Sequence"
   ]
  },
  {
   "cell_type": "code",
   "execution_count": 9,
   "metadata": {},
   "outputs": [
    {
     "name": "stdout",
     "output_type": "stream",
     "text": [
      "Epoch 1/50\n",
      "37/37 [==============================] - 1s 23ms/step - loss: 24.6953 - accuracy: 0.5043 - val_loss: 42.9132 - val_accuracy: 0.4742\n",
      "Epoch 2/50\n",
      "37/37 [==============================] - 0s 13ms/step - loss: 27.5073 - accuracy: 0.5052 - val_loss: 30.7596 - val_accuracy: 0.4742\n",
      "Epoch 3/50\n",
      "37/37 [==============================] - 0s 13ms/step - loss: 26.2238 - accuracy: 0.5163 - val_loss: 20.9979 - val_accuracy: 0.5052\n",
      "Epoch 4/50\n",
      "37/37 [==============================] - 0s 12ms/step - loss: 13.8883 - accuracy: 0.6125 - val_loss: 20.2256 - val_accuracy: 0.6151\n",
      "Epoch 5/50\n",
      "37/37 [==============================] - 0s 13ms/step - loss: 10.5585 - accuracy: 0.6770 - val_loss: 9.2205 - val_accuracy: 0.6976\n",
      "Epoch 6/50\n",
      "37/37 [==============================] - 1s 14ms/step - loss: 8.6168 - accuracy: 0.7629 - val_loss: 19.5149 - val_accuracy: 0.6907\n",
      "Epoch 7/50\n",
      "37/37 [==============================] - 0s 13ms/step - loss: 11.9181 - accuracy: 0.7637 - val_loss: 17.7765 - val_accuracy: 0.7491\n",
      "Epoch 8/50\n",
      "37/37 [==============================] - 0s 12ms/step - loss: 11.3813 - accuracy: 0.7328 - val_loss: 9.6555 - val_accuracy: 0.6735\n",
      "Epoch 9/50\n",
      "37/37 [==============================] - 0s 12ms/step - loss: 18.5705 - accuracy: 0.6942 - val_loss: 17.0375 - val_accuracy: 0.6804\n",
      "Epoch 10/50\n",
      "37/37 [==============================] - 0s 12ms/step - loss: 13.1775 - accuracy: 0.7560 - val_loss: 16.7509 - val_accuracy: 0.7113\n",
      "Epoch 11/50\n",
      "37/37 [==============================] - 0s 12ms/step - loss: 11.2617 - accuracy: 0.7981 - val_loss: 13.1920 - val_accuracy: 0.7698\n",
      "Epoch 12/50\n",
      "37/37 [==============================] - 0s 12ms/step - loss: 7.4109 - accuracy: 0.7620 - val_loss: 10.4494 - val_accuracy: 0.6289\n",
      "Epoch 13/50\n",
      "37/37 [==============================] - 0s 12ms/step - loss: 8.5728 - accuracy: 0.7165 - val_loss: 10.9599 - val_accuracy: 0.7079\n",
      "Epoch 14/50\n",
      "37/37 [==============================] - 0s 13ms/step - loss: 38.7952 - accuracy: 0.6426 - val_loss: 62.7584 - val_accuracy: 0.5979\n",
      "Epoch 15/50\n",
      "37/37 [==============================] - 0s 12ms/step - loss: 44.6730 - accuracy: 0.7311 - val_loss: 28.9038 - val_accuracy: 0.7663\n",
      "Epoch 16/50\n",
      "37/37 [==============================] - 0s 13ms/step - loss: 23.0431 - accuracy: 0.7964 - val_loss: 33.9431 - val_accuracy: 0.7423\n",
      "Epoch 17/50\n",
      "37/37 [==============================] - 0s 13ms/step - loss: 20.7367 - accuracy: 0.7990 - val_loss: 9.3359 - val_accuracy: 0.6117\n",
      "Epoch 18/50\n",
      "37/37 [==============================] - 0s 12ms/step - loss: 4.8947 - accuracy: 0.6143 - val_loss: 4.2730 - val_accuracy: 0.6048\n",
      "Epoch 19/50\n",
      "37/37 [==============================] - 0s 12ms/step - loss: 2.2736 - accuracy: 0.6615 - val_loss: 3.1625 - val_accuracy: 0.6873\n",
      "Epoch 20/50\n",
      "37/37 [==============================] - 0s 12ms/step - loss: 1.7137 - accuracy: 0.6856 - val_loss: 2.5836 - val_accuracy: 0.6735\n",
      "Epoch 21/50\n",
      "37/37 [==============================] - 0s 13ms/step - loss: 1.4601 - accuracy: 0.7199 - val_loss: 2.4717 - val_accuracy: 0.7010\n",
      "Epoch 22/50\n",
      "37/37 [==============================] - 0s 13ms/step - loss: 1.3596 - accuracy: 0.7311 - val_loss: 2.4213 - val_accuracy: 0.6907\n",
      "Epoch 23/50\n",
      "37/37 [==============================] - 0s 13ms/step - loss: 1.5426 - accuracy: 0.7311 - val_loss: 2.8940 - val_accuracy: 0.6770\n",
      "Epoch 24/50\n",
      "37/37 [==============================] - 0s 12ms/step - loss: 1.2030 - accuracy: 0.7337 - val_loss: 2.2007 - val_accuracy: 0.6907\n",
      "Epoch 25/50\n",
      "37/37 [==============================] - 0s 12ms/step - loss: 1.1514 - accuracy: 0.7423 - val_loss: 2.5398 - val_accuracy: 0.6873\n",
      "Epoch 26/50\n",
      "37/37 [==============================] - 0s 12ms/step - loss: 1.1928 - accuracy: 0.7586 - val_loss: 2.0109 - val_accuracy: 0.7457\n",
      "Epoch 27/50\n",
      "37/37 [==============================] - 0s 12ms/step - loss: 1.1294 - accuracy: 0.7560 - val_loss: 2.1953 - val_accuracy: 0.7010\n",
      "Epoch 28/50\n",
      "37/37 [==============================] - 0s 12ms/step - loss: 1.0968 - accuracy: 0.7595 - val_loss: 2.0236 - val_accuracy: 0.7216\n",
      "Epoch 29/50\n",
      "37/37 [==============================] - 0s 12ms/step - loss: 1.0612 - accuracy: 0.7869 - val_loss: 1.8702 - val_accuracy: 0.7388\n",
      "Epoch 30/50\n",
      "37/37 [==============================] - 1s 14ms/step - loss: 0.9631 - accuracy: 0.7766 - val_loss: 1.8884 - val_accuracy: 0.7216\n",
      "Epoch 31/50\n",
      "37/37 [==============================] - 1s 15ms/step - loss: 0.9332 - accuracy: 0.7878 - val_loss: 2.1166 - val_accuracy: 0.7148\n",
      "Epoch 32/50\n",
      "37/37 [==============================] - 0s 12ms/step - loss: 0.9191 - accuracy: 0.7912 - val_loss: 1.8303 - val_accuracy: 0.7216\n",
      "Epoch 33/50\n",
      "37/37 [==============================] - 0s 13ms/step - loss: 0.8660 - accuracy: 0.7964 - val_loss: 1.7472 - val_accuracy: 0.7388\n",
      "Epoch 34/50\n",
      "37/37 [==============================] - 1s 14ms/step - loss: 0.8440 - accuracy: 0.8101 - val_loss: 1.6450 - val_accuracy: 0.7766\n",
      "Epoch 35/50\n",
      "37/37 [==============================] - 0s 13ms/step - loss: 0.8144 - accuracy: 0.8179 - val_loss: 1.6655 - val_accuracy: 0.7629\n",
      "Epoch 36/50\n",
      "37/37 [==============================] - 0s 12ms/step - loss: 0.8729 - accuracy: 0.7826 - val_loss: 1.7336 - val_accuracy: 0.7251\n",
      "Epoch 37/50\n",
      "37/37 [==============================] - 0s 13ms/step - loss: 0.8366 - accuracy: 0.7921 - val_loss: 1.5664 - val_accuracy: 0.7457\n",
      "Epoch 38/50\n",
      "37/37 [==============================] - 0s 13ms/step - loss: 0.7718 - accuracy: 0.8376 - val_loss: 1.6603 - val_accuracy: 0.7010\n",
      "Epoch 39/50\n",
      "37/37 [==============================] - 1s 14ms/step - loss: 0.8427 - accuracy: 0.7809 - val_loss: 1.5511 - val_accuracy: 0.7801\n",
      "Epoch 40/50\n",
      "37/37 [==============================] - 1s 14ms/step - loss: 0.7395 - accuracy: 0.8076 - val_loss: 1.5736 - val_accuracy: 0.7216\n",
      "Epoch 41/50\n",
      "37/37 [==============================] - 0s 13ms/step - loss: 0.7114 - accuracy: 0.8308 - val_loss: 1.5031 - val_accuracy: 0.7801\n",
      "Epoch 42/50\n",
      "37/37 [==============================] - 0s 13ms/step - loss: 0.8065 - accuracy: 0.7741 - val_loss: 1.7731 - val_accuracy: 0.6426\n",
      "Epoch 43/50\n",
      "37/37 [==============================] - 0s 12ms/step - loss: 0.7476 - accuracy: 0.7973 - val_loss: 1.4465 - val_accuracy: 0.7869\n",
      "Epoch 44/50\n",
      "37/37 [==============================] - 0s 12ms/step - loss: 0.6880 - accuracy: 0.8110 - val_loss: 1.5876 - val_accuracy: 0.7320\n",
      "Epoch 45/50\n",
      "37/37 [==============================] - 0s 12ms/step - loss: 1.1988 - accuracy: 0.8067 - val_loss: 1.7999 - val_accuracy: 0.6838\n",
      "Epoch 46/50\n",
      "37/37 [==============================] - 0s 12ms/step - loss: 0.7566 - accuracy: 0.7895 - val_loss: 1.2148 - val_accuracy: 0.7801\n",
      "Epoch 47/50\n",
      "37/37 [==============================] - 0s 12ms/step - loss: 0.7503 - accuracy: 0.7637 - val_loss: 1.1245 - val_accuracy: 0.7801\n",
      "Epoch 48/50\n",
      "37/37 [==============================] - 0s 12ms/step - loss: 0.6541 - accuracy: 0.8024 - val_loss: 1.1008 - val_accuracy: 0.8179\n",
      "Epoch 49/50\n",
      "37/37 [==============================] - 0s 12ms/step - loss: 0.5899 - accuracy: 0.8187 - val_loss: 1.1459 - val_accuracy: 0.7869\n",
      "Epoch 50/50\n",
      "37/37 [==============================] - 0s 12ms/step - loss: 0.6311 - accuracy: 0.8067 - val_loss: 1.0863 - val_accuracy: 0.8282\n"
     ]
    },
    {
     "data": {
      "image/png": "[encoded data removed]",
      "text/plain": [
       "<Figure size 432x288 with 2 Axes>"
      ]
     },
     "metadata": {
      "needs_background": "light"
     },
     "output_type": "display_data"
    }
   ],
   "source": [
    "#Full Term\n",
    "fullcoursemodel = course_modeling(data,45,50)"
   ]
  },
  {
   "cell_type": "markdown",
   "metadata": {},
   "source": [
    "### First Semester Freshman Year"
   ]
  },
  {
   "cell_type": "code",
   "execution_count": 10,
   "metadata": {},
   "outputs": [
    {
     "name": "stdout",
     "output_type": "stream",
     "text": [
      "Epoch 1/20\n",
      "37/37 [==============================] - 0s 7ms/step - loss: 3.9864 - accuracy: 0.5258 - val_loss: 1.2124 - val_accuracy: 0.6014\n",
      "Epoch 2/20\n",
      "37/37 [==============================] - 0s 3ms/step - loss: 0.9357 - accuracy: 0.5765 - val_loss: 0.8904 - val_accuracy: 0.5498\n",
      "Epoch 3/20\n",
      "37/37 [==============================] - 0s 2ms/step - loss: 0.7750 - accuracy: 0.6280 - val_loss: 0.8783 - val_accuracy: 0.4674\n",
      "Epoch 4/20\n",
      "37/37 [==============================] - 0s 3ms/step - loss: 0.7155 - accuracy: 0.6383 - val_loss: 0.8123 - val_accuracy: 0.5189\n",
      "Epoch 5/20\n",
      "37/37 [==============================] - 0s 2ms/step - loss: 0.6664 - accuracy: 0.6615 - val_loss: 0.8306 - val_accuracy: 0.5223\n",
      "Epoch 6/20\n",
      "37/37 [==============================] - 0s 3ms/step - loss: 0.6458 - accuracy: 0.6538 - val_loss: 0.7900 - val_accuracy: 0.5808\n",
      "Epoch 7/20\n",
      "37/37 [==============================] - 0s 3ms/step - loss: 0.6561 - accuracy: 0.6658 - val_loss: 0.7601 - val_accuracy: 0.5498\n",
      "Epoch 8/20\n",
      "37/37 [==============================] - 0s 3ms/step - loss: 0.6372 - accuracy: 0.6701 - val_loss: 0.7410 - val_accuracy: 0.5464\n",
      "Epoch 9/20\n",
      "37/37 [==============================] - 0s 3ms/step - loss: 0.6141 - accuracy: 0.6701 - val_loss: 0.7565 - val_accuracy: 0.5979\n",
      "Epoch 10/20\n",
      "37/37 [==============================] - 0s 3ms/step - loss: 0.6372 - accuracy: 0.6632 - val_loss: 0.7544 - val_accuracy: 0.5430\n",
      "Epoch 11/20\n",
      "37/37 [==============================] - 0s 3ms/step - loss: 0.6222 - accuracy: 0.6710 - val_loss: 0.7488 - val_accuracy: 0.6117\n",
      "Epoch 12/20\n",
      "37/37 [==============================] - 0s 3ms/step - loss: 0.6113 - accuracy: 0.6830 - val_loss: 0.7773 - val_accuracy: 0.5911\n",
      "Epoch 13/20\n",
      "37/37 [==============================] - 0s 3ms/step - loss: 0.6149 - accuracy: 0.6649 - val_loss: 0.7416 - val_accuracy: 0.5842\n",
      "Epoch 14/20\n",
      "37/37 [==============================] - 0s 2ms/step - loss: 0.6013 - accuracy: 0.6924 - val_loss: 0.7321 - val_accuracy: 0.5911\n",
      "Epoch 15/20\n",
      "37/37 [==============================] - 0s 2ms/step - loss: 0.6039 - accuracy: 0.6761 - val_loss: 0.7466 - val_accuracy: 0.6151\n",
      "Epoch 16/20\n",
      "37/37 [==============================] - 0s 3ms/step - loss: 0.6003 - accuracy: 0.6727 - val_loss: 0.7596 - val_accuracy: 0.6254\n",
      "Epoch 17/20\n",
      "37/37 [==============================] - 0s 3ms/step - loss: 0.5949 - accuracy: 0.6830 - val_loss: 0.7400 - val_accuracy: 0.5808\n",
      "Epoch 18/20\n",
      "37/37 [==============================] - 0s 2ms/step - loss: 0.6043 - accuracy: 0.6753 - val_loss: 0.7311 - val_accuracy: 0.6289\n",
      "Epoch 19/20\n",
      "37/37 [==============================] - 0s 2ms/step - loss: 0.6012 - accuracy: 0.6830 - val_loss: 0.7499 - val_accuracy: 0.5911\n",
      "Epoch 20/20\n",
      "37/37 [==============================] - 0s 3ms/step - loss: 0.5855 - accuracy: 0.6916 - val_loss: 0.7426 - val_accuracy: 0.5808\n"
     ]
    },
    {
     "data": {
      "image/png": "[encoded data removed]",
      "text/plain": [
       "<Figure size 432x288 with 2 Axes>"
      ]
     },
     "metadata": {
      "needs_background": "light"
     },
     "output_type": "display_data"
    }
   ],
   "source": [
    "#First Semester Freshman\n",
    "course_modeling(data,4,20)"
   ]
  },
  {
   "cell_type": "markdown",
   "metadata": {},
   "source": [
    "### After Sophomore Year"
   ]
  },
  {
   "cell_type": "code",
   "execution_count": 11,
   "metadata": {},
   "outputs": [
    {
     "name": "stdout",
     "output_type": "stream",
     "text": [
      "Epoch 1/15\n",
      "37/37 [==============================] - 0s 11ms/step - loss: 1.7334 - accuracy: 0.7010 - val_loss: 1.5752 - val_accuracy: 0.6701\n",
      "Epoch 2/15\n",
      "37/37 [==============================] - 0s 5ms/step - loss: 0.8208 - accuracy: 0.7904 - val_loss: 1.0791 - val_accuracy: 0.7526\n",
      "Epoch 3/15\n",
      "37/37 [==============================] - 0s 5ms/step - loss: 0.6110 - accuracy: 0.8239 - val_loss: 1.0035 - val_accuracy: 0.7595\n",
      "Epoch 4/15\n",
      "37/37 [==============================] - 0s 5ms/step - loss: 0.4963 - accuracy: 0.8282 - val_loss: 0.7535 - val_accuracy: 0.7560\n",
      "Epoch 5/15\n",
      "37/37 [==============================] - 0s 5ms/step - loss: 0.4855 - accuracy: 0.8308 - val_loss: 0.8711 - val_accuracy: 0.7423\n",
      "Epoch 6/15\n",
      "37/37 [==============================] - 0s 6ms/step - loss: 0.4585 - accuracy: 0.8514 - val_loss: 0.7530 - val_accuracy: 0.7457\n",
      "Epoch 7/15\n",
      "37/37 [==============================] - 0s 5ms/step - loss: 0.4344 - accuracy: 0.8479 - val_loss: 0.6899 - val_accuracy: 0.7698\n",
      "Epoch 8/15\n",
      "37/37 [==============================] - 0s 6ms/step - loss: 0.3760 - accuracy: 0.8591 - val_loss: 0.8189 - val_accuracy: 0.7663\n",
      "Epoch 9/15\n",
      "37/37 [==============================] - 0s 6ms/step - loss: 0.3434 - accuracy: 0.8651 - val_loss: 1.1900 - val_accuracy: 0.7629\n",
      "Epoch 10/15\n",
      "37/37 [==============================] - 0s 6ms/step - loss: 0.3352 - accuracy: 0.8651 - val_loss: 0.6677 - val_accuracy: 0.7526\n",
      "Epoch 11/15\n",
      "37/37 [==============================] - 0s 6ms/step - loss: 0.3561 - accuracy: 0.8634 - val_loss: 0.6102 - val_accuracy: 0.7732\n",
      "Epoch 12/15\n",
      "37/37 [==============================] - 0s 6ms/step - loss: 0.3067 - accuracy: 0.8797 - val_loss: 0.5565 - val_accuracy: 0.7698\n",
      "Epoch 13/15\n",
      "37/37 [==============================] - 0s 5ms/step - loss: 0.2819 - accuracy: 0.8900 - val_loss: 0.5355 - val_accuracy: 0.7801\n",
      "Epoch 14/15\n",
      "37/37 [==============================] - 0s 5ms/step - loss: 0.3044 - accuracy: 0.8814 - val_loss: 0.6132 - val_accuracy: 0.7698\n",
      "Epoch 15/15\n",
      "37/37 [==============================] - 0s 5ms/step - loss: 0.3002 - accuracy: 0.8849 - val_loss: 0.8213 - val_accuracy: 0.7595\n"
     ]
    },
    {
     "data": {
      "image/png": "[encoded data removed]",
      "text/plain": [
       "<Figure size 432x288 with 2 Axes>"
      ]
     },
     "metadata": {
      "needs_background": "light"
     },
     "output_type": "display_data"
    }
   ],
   "source": [
    "#Sophomore\n",
    "course_modeling(data,16,15)"
   ]
  },
  {
   "cell_type": "markdown",
   "metadata": {},
   "source": [
    "## Baseline Sequential Grades Model"
   ]
  },
  {
   "cell_type": "code",
   "execution_count": 12,
   "metadata": {},
   "outputs": [],
   "source": [
    "#baseline grades\n",
    "def grade_modeling(df,N,E):\n",
    "    student_ids = df.alt_id.unique()\n",
    "    target = []\n",
    "    for s_id in student_ids:\n",
    "        grad = df[df['alt_id'] == s_id].iloc[0].Graduated\n",
    "        target.append(grad)\n",
    "    grade_sequences = []\n",
    "    for s_id in student_ids:\n",
    "        frame = df[df['alt_id'] == s_id]\n",
    "        grades = ' '.join(frame['Sttr Stu Final Grades'].to_list())\n",
    "        grade_sequences.append(grades)\n",
    "    tokenizer = Tokenizer()\n",
    "    tokenizer.fit_on_texts(grade_sequences)\n",
    "    encoded_sequences = tokenizer.texts_to_sequences(grade_sequences)\n",
    "    padded_grade_sequences = pad_sequences(\n",
    "    encoded_sequences, maxlen=N, dtype='int32', padding='post',\n",
    "    truncating='post', value=0.0)\n",
    "    padded_reshaped_grades = padded_grade_sequences.reshape(1455, N, 1)\n",
    "\n",
    "    model = Sequential()\n",
    "    input_layer = Input(shape=(N, 1))\n",
    "    sequential_1 = LSTM(64, activation='relu')\n",
    "    output_layer = Dense(1, activation='sigmoid')\n",
    "\n",
    "    model.add(input_layer)\n",
    "    model.add(sequential_1)\n",
    "    model.add(output_layer)\n",
    "\n",
    "    model.compile(optimizer='adam', loss='binary_crossentropy', metrics = ['accuracy'])\n",
    "    model.fit(padded_reshaped_grades, np.array(target), epochs=E, validation_split = .2)\n",
    "    \n",
    "    accuracy = model.history.history['accuracy']\n",
    "    print(round(accuracy[-1],2))\n",
    "    \n",
    "     #plot\n",
    "    fig, (ax1,ax2) = plt.subplots(1,2)\n",
    "\n",
    "    ax1.plot(model.history.epoch, model.history.history['loss'], label='Train')\n",
    "    ax1.plot(model.history.epoch, model.history.history['val_loss'], label='Validation')\n",
    "    \n",
    "    ax1.legend()\n",
    "    \n",
    "    ax2.plot(model.history.epoch, model.history.history['accuracy'], label='Train')\n",
    "    ax2.plot(model.history.epoch, model.history.history['val_accuracy'], label='Validation')\n",
    "    \n",
    "    ax2.legend()\n",
    "    \n",
    "    #loss = model.history.history['loss']\n",
    "   # print(round(loss[-1],2))\n",
    "\n",
    "#pd.DataFrame(feature_encoder.transform(np.array(padded_grade_sequences[0]).reshape(-1,1)).todense())\n",
    "#np.array(padded_grade_sequences[0]).reshape(-1,1)"
   ]
  },
  {
   "cell_type": "markdown",
   "metadata": {},
   "source": [
    "### Baseline -- Full Grade Sequence"
   ]
  },
  {
   "cell_type": "code",
   "execution_count": 13,
   "metadata": {
    "scrolled": false
   },
   "outputs": [
    {
     "name": "stdout",
     "output_type": "stream",
     "text": [
      "Epoch 1/10\n",
      "37/37 [==============================] - 1s 17ms/step - loss: 0.6756 - accuracy: 0.6589 - val_loss: 0.6545 - val_accuracy: 0.5601\n",
      "Epoch 2/10\n",
      "37/37 [==============================] - 0s 12ms/step - loss: 0.5872 - accuracy: 0.7603 - val_loss: 0.6117 - val_accuracy: 0.8282\n",
      "Epoch 3/10\n",
      "37/37 [==============================] - 0s 12ms/step - loss: 0.5837 - accuracy: 0.9167 - val_loss: 0.4420 - val_accuracy: 0.8110\n",
      "Epoch 4/10\n",
      "37/37 [==============================] - 0s 12ms/step - loss: 0.4071 - accuracy: 0.9399 - val_loss: 0.3978 - val_accuracy: 0.8935\n",
      "Epoch 5/10\n",
      "37/37 [==============================] - 0s 11ms/step - loss: 0.3653 - accuracy: 0.9450 - val_loss: 0.4643 - val_accuracy: 0.7938\n",
      "Epoch 6/10\n",
      "37/37 [==============================] - 0s 11ms/step - loss: 0.3336 - accuracy: 0.9227 - val_loss: 0.2904 - val_accuracy: 0.9210\n",
      "Epoch 7/10\n",
      "37/37 [==============================] - 0s 11ms/step - loss: 0.3344 - accuracy: 0.9261 - val_loss: 0.3720 - val_accuracy: 0.8763\n",
      "Epoch 8/10\n",
      "37/37 [==============================] - 0s 12ms/step - loss: 0.3151 - accuracy: 0.9381 - val_loss: 0.3520 - val_accuracy: 0.8866\n",
      "Epoch 9/10\n",
      "37/37 [==============================] - 0s 11ms/step - loss: 0.2919 - accuracy: 0.9347 - val_loss: 0.3399 - val_accuracy: 0.8797\n",
      "Epoch 10/10\n",
      "37/37 [==============================] - 0s 11ms/step - loss: 0.2757 - accuracy: 0.9347 - val_loss: 0.3310 - val_accuracy: 0.8797\n",
      "0.93\n"
     ]
    },
    {
     "data": {
      "image/png": "[encoded data removed]",
      "text/plain": [
       "<Figure size 432x288 with 2 Axes>"
      ]
     },
     "metadata": {
      "needs_background": "light"
     },
     "output_type": "display_data"
    }
   ],
   "source": [
    "#Full Course - 45 classes\n",
    "grade_modeling(data,45,10)"
   ]
  },
  {
   "cell_type": "markdown",
   "metadata": {},
   "source": [
    "### First Semester Freshman Year Grades"
   ]
  },
  {
   "cell_type": "code",
   "execution_count": 14,
   "metadata": {},
   "outputs": [
    {
     "name": "stdout",
     "output_type": "stream",
     "text": [
      "Epoch 1/15\n",
      "37/37 [==============================] - 0s 8ms/step - loss: 0.6769 - accuracy: 0.6194 - val_loss: 0.7100 - val_accuracy: 0.5601\n",
      "Epoch 2/15\n",
      "37/37 [==============================] - 0s 3ms/step - loss: 0.6521 - accuracy: 0.6658 - val_loss: 0.6803 - val_accuracy: 0.5739\n",
      "Epoch 3/15\n",
      "37/37 [==============================] - 0s 3ms/step - loss: 0.6224 - accuracy: 0.6881 - val_loss: 0.6350 - val_accuracy: 0.6460\n",
      "Epoch 4/15\n",
      "37/37 [==============================] - 0s 3ms/step - loss: 0.5961 - accuracy: 0.7036 - val_loss: 0.5902 - val_accuracy: 0.6632\n",
      "Epoch 5/15\n",
      "37/37 [==============================] - 0s 3ms/step - loss: 0.5883 - accuracy: 0.7148 - val_loss: 0.5942 - val_accuracy: 0.6529\n",
      "Epoch 6/15\n",
      "37/37 [==============================] - 0s 3ms/step - loss: 0.5832 - accuracy: 0.7088 - val_loss: 0.6403 - val_accuracy: 0.6460\n",
      "Epoch 7/15\n",
      "37/37 [==============================] - 0s 3ms/step - loss: 0.5927 - accuracy: 0.7027 - val_loss: 0.5952 - val_accuracy: 0.6460\n",
      "Epoch 8/15\n",
      "37/37 [==============================] - 0s 3ms/step - loss: 0.5827 - accuracy: 0.7096 - val_loss: 0.6302 - val_accuracy: 0.6495\n",
      "Epoch 9/15\n",
      "37/37 [==============================] - 0s 2ms/step - loss: 0.5847 - accuracy: 0.7139 - val_loss: 0.5930 - val_accuracy: 0.6460\n",
      "Epoch 10/15\n",
      "37/37 [==============================] - 0s 2ms/step - loss: 0.5818 - accuracy: 0.7113 - val_loss: 0.5993 - val_accuracy: 0.6460\n",
      "Epoch 11/15\n",
      "37/37 [==============================] - 0s 2ms/step - loss: 0.5806 - accuracy: 0.7113 - val_loss: 0.5960 - val_accuracy: 0.6460\n",
      "Epoch 12/15\n",
      "37/37 [==============================] - 0s 2ms/step - loss: 0.5827 - accuracy: 0.7079 - val_loss: 0.5762 - val_accuracy: 0.6770\n",
      "Epoch 13/15\n",
      "37/37 [==============================] - 0s 2ms/step - loss: 0.5795 - accuracy: 0.7148 - val_loss: 0.5830 - val_accuracy: 0.6735\n",
      "Epoch 14/15\n",
      "37/37 [==============================] - 0s 2ms/step - loss: 0.5790 - accuracy: 0.7148 - val_loss: 0.6047 - val_accuracy: 0.6392\n",
      "Epoch 15/15\n",
      "37/37 [==============================] - 0s 2ms/step - loss: 0.5765 - accuracy: 0.7122 - val_loss: 0.5976 - val_accuracy: 0.6495\n",
      "0.71\n"
     ]
    },
    {
     "data": {
      "image/png": "[encoded data removed]",
      "text/plain": [
       "<Figure size 432x288 with 2 Axes>"
      ]
     },
     "metadata": {
      "needs_background": "light"
     },
     "output_type": "display_data"
    }
   ],
   "source": [
    "#Freshman 1st Semester\n",
    "grade_modeling(data,4,15)"
   ]
  },
  {
   "cell_type": "markdown",
   "metadata": {},
   "source": [
    "### After Sophomore Year"
   ]
  },
  {
   "cell_type": "code",
   "execution_count": 15,
   "metadata": {},
   "outputs": [
    {
     "name": "stdout",
     "output_type": "stream",
     "text": [
      "Epoch 1/15\n",
      "37/37 [==============================] - 0s 12ms/step - loss: 0.5852 - accuracy: 0.7148 - val_loss: 0.6295 - val_accuracy: 0.7732\n",
      "Epoch 2/15\n",
      "37/37 [==============================] - 0s 5ms/step - loss: 0.5079 - accuracy: 0.8428 - val_loss: 0.6318 - val_accuracy: 0.7526\n",
      "Epoch 3/15\n",
      "37/37 [==============================] - 0s 5ms/step - loss: 0.4760 - accuracy: 0.8505 - val_loss: 0.5230 - val_accuracy: 0.7766\n",
      "Epoch 4/15\n",
      "37/37 [==============================] - 0s 5ms/step - loss: 0.4071 - accuracy: 0.8574 - val_loss: 0.4982 - val_accuracy: 0.7869\n",
      "Epoch 5/15\n",
      "37/37 [==============================] - 0s 6ms/step - loss: 0.3802 - accuracy: 0.8625 - val_loss: 0.4386 - val_accuracy: 0.8007\n",
      "Epoch 6/15\n",
      "37/37 [==============================] - 0s 5ms/step - loss: 0.3540 - accuracy: 0.8686 - val_loss: 0.3899 - val_accuracy: 0.8247\n",
      "Epoch 7/15\n",
      "37/37 [==============================] - 0s 5ms/step - loss: 0.3361 - accuracy: 0.8660 - val_loss: 0.4211 - val_accuracy: 0.8007\n",
      "Epoch 8/15\n",
      "37/37 [==============================] - 0s 5ms/step - loss: 0.3239 - accuracy: 0.8789 - val_loss: 0.3944 - val_accuracy: 0.8454\n",
      "Epoch 9/15\n",
      "37/37 [==============================] - 0s 5ms/step - loss: 0.3194 - accuracy: 0.8832 - val_loss: 0.3663 - val_accuracy: 0.8522\n",
      "Epoch 10/15\n",
      "37/37 [==============================] - 0s 6ms/step - loss: 0.3108 - accuracy: 0.8857 - val_loss: 0.3738 - val_accuracy: 0.8454\n",
      "Epoch 11/15\n",
      "37/37 [==============================] - 0s 6ms/step - loss: 0.3057 - accuracy: 0.8900 - val_loss: 0.3933 - val_accuracy: 0.8282\n",
      "Epoch 12/15\n",
      "37/37 [==============================] - 0s 7ms/step - loss: 0.3045 - accuracy: 0.8883 - val_loss: 0.3644 - val_accuracy: 0.8488\n",
      "Epoch 13/15\n",
      "37/37 [==============================] - 0s 6ms/step - loss: 0.3016 - accuracy: 0.8892 - val_loss: 0.3776 - val_accuracy: 0.8488\n",
      "Epoch 14/15\n",
      "37/37 [==============================] - 0s 5ms/step - loss: 0.2982 - accuracy: 0.8918 - val_loss: 0.3510 - val_accuracy: 0.8454\n",
      "Epoch 15/15\n",
      "37/37 [==============================] - 0s 5ms/step - loss: 0.2989 - accuracy: 0.8952 - val_loss: 0.3641 - val_accuracy: 0.8419\n",
      "0.9\n"
     ]
    },
    {
     "data": {
      "image/png": "[encoded data removed]",
      "text/plain": [
       "<Figure size 432x288 with 2 Axes>"
      ]
     },
     "metadata": {
      "needs_background": "light"
     },
     "output_type": "display_data"
    }
   ],
   "source": [
    "#Sophomore\n",
    "grade_modeling(data,16,15)"
   ]
  }
 ],
 "metadata": {
  "kernelspec": {
   "display_name": "learn-env",
   "language": "python",
   "name": "learn-env"
  },
  "language_info": {
   "codemirror_mode": {
    "name": "ipython",
    "version": 3
   },
   "file_extension": ".py",
   "mimetype": "text/x-python",
   "name": "python",
   "nbconvert_exporter": "python",
   "pygments_lexer": "ipython3",
   "version": "3.8.5"
  },
  "toc": {
   "base_numbering": 1,
   "nav_menu": {},
   "number_sections": true,
   "sideBar": true,
   "skip_h1_title": false,
   "title_cell": "Table of Contents",
   "title_sidebar": "Contents",
   "toc_cell": false,
   "toc_position": {},
   "toc_section_display": true,
   "toc_window_display": false
  }
 },
 "nbformat": 4,
 "nbformat_minor": 4
}
