{
 "cells": [
  {
   "cell_type": "markdown",
   "metadata": {},
   "source": [
    "![BSC_Logo](images/logo.jpg)"
   ]
  },
  {
   "cell_type": "markdown",
   "metadata": {},
   "source": [
    "# BSC Student Success\n",
    " - Dorothy Alexander\n",
    " - CeCe Lacey\n",
    " - Pete VanZandt"
   ]
  },
  {
   "cell_type": "markdown",
   "metadata": {},
   "source": [
    "## Business Understanding"
   ]
  },
  {
   "cell_type": "markdown",
   "metadata": {},
   "source": [
    "As a current student, current faculty member, and alumna in BSC's Flatiron Data Science program we were very excited to be able to analyze anonymized BSC student data. We sought to create a model to predict student success, in this case meaning graduating within 4 years."
   ]
  },
  {
   "cell_type": "markdown",
   "metadata": {},
   "source": [
    "## Data Understanding"
   ]
  },
  {
   "cell_type": "markdown",
   "metadata": {},
   "source": [
    "We were able to utilize 2 sets of BSC studen data ranging from 2014-2018 that includes what courses they took, their grades in those courses, "
   ]
  },
  {
   "cell_type": "markdown",
   "metadata": {},
   "source": [
    "## Data Preparation"
   ]
  },
  {
   "cell_type": "markdown",
   "metadata": {},
   "source": [
    "Pete began processing our data by anonymizing all student information by creating an alternate id ('alt_it') for each student. Dorothy did some data cleaning and along with CeCe did some feature engineering. The moajority of this work can been seen in this notebook: [EDA](notebooks/dorothy/dorothy.ipynb)."
   ]
  },
  {
   "cell_type": "markdown",
   "metadata": {},
   "source": [
    "## Modeling"
   ]
  },
  {
   "cell_type": "markdown",
   "metadata": {},
   "source": [
    "Our baseline model was a random forest classifier that looked at student GPA after"
   ]
  },
  {
   "cell_type": "markdown",
   "metadata": {},
   "source": [
    "In this notebook we use sequential student data to create a Recurrent Neural Network. [RNN](notebooks/cece/Final_Notebook_CeCe.ipynb) We used a tokenizer to create a sequence for each student's courses and one for their sequence of gradess.\n",
    "\n",
    "We used this to investigate the predictive ability of student course sequence and student grade sequence. Looking at a student’s first 4 courses’ grades gave us an accuracy of 68%, looking at their first 16 classes gave us 85%, and surprisingly looking at their full course load was only 80% accurate. Student grades after 4 courses gave us 71% accuracy, after 16 courses, 89%, and looking at a student’s total GPA gave us 95% accuracy. Student grade sequences were overall a much better predictor. "
   ]
  },
  {
   "cell_type": "markdown",
   "metadata": {},
   "source": [
    "## Evaluation"
   ]
  },
  {
   "cell_type": "markdown",
   "metadata": {},
   "source": [
    "![Grad_Rates](images/graduation_rates.jpg)"
   ]
  },
  {
   "cell_type": "markdown",
   "metadata": {},
   "source": []
  },
  {
   "cell_type": "markdown",
   "metadata": {},
   "source": [
    "![Confusion_Matrix](images/conf_mat_RF_train.jpg)"
   ]
  },
  {
   "cell_type": "markdown",
   "metadata": {},
   "source": [
    "![Feature_Importance](images/RF_feature_import.jpg)"
   ]
  },
  {
   "cell_type": "markdown",
   "metadata": {},
   "source": []
  },
  {
   "cell_type": "markdown",
   "metadata": {},
   "source": [
    "## Deployment"
   ]
  },
  {
   "cell_type": "markdown",
   "metadata": {},
   "source": []
  },
  {
   "cell_type": "code",
   "execution_count": null,
   "metadata": {},
   "outputs": [],
   "source": []
  }
 ],
 "metadata": {
  "kernelspec": {
   "display_name": "learn-env",
   "language": "python",
   "name": "learn-env"
  },
  "language_info": {
   "codemirror_mode": {
    "name": "ipython",
    "version": 3
   },
   "file_extension": ".py",
   "mimetype": "text/x-python",
   "name": "python",
   "nbconvert_exporter": "python",
   "pygments_lexer": "ipython3",
   "version": "3.8.5"
  },
  "toc": {
   "base_numbering": 1,
   "nav_menu": {},
   "number_sections": true,
   "sideBar": true,
   "skip_h1_title": false,
   "title_cell": "Table of Contents",
   "title_sidebar": "Contents",
   "toc_cell": false,
   "toc_position": {},
   "toc_section_display": true,
   "toc_window_display": false
  }
 },
 "nbformat": 4,
 "nbformat_minor": 4
}
